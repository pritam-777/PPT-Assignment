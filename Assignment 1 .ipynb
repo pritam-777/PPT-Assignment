{
 "cells": [
  {
   "cell_type": "markdown",
   "id": "5b37d2d6",
   "metadata": {},
   "source": [
    "\n",
    "💡 **Q1.** Given an array of integers nums and an integer target, return indices of the two numbers such that they add up to target.\n",
    "\n",
    "You may assume that each input would have exactly one solution, and you may not use the same element twice.\n",
    "\n",
    "You can return the answer in any order.\n",
    "\n",
    "**Example:**\n",
    "Input: nums = [2,7,11,15], target = 9\n",
    "Output0 [0,1]\n",
    "\n",
    "**Explanation:** Because nums[0] + nums[1] == 9, we return [0, 1][\n",
    "\n",
    "</aside>"
   ]
  },
  {
   "cell_type": "code",
   "execution_count": 1,
   "id": "790d92c1",
   "metadata": {},
   "outputs": [],
   "source": [
    "def Sum(nums,target):\n",
    "    numToIndex = {}\n",
    "    for i in range(len(nums)):\n",
    "        if target-nums[i] in numToIndex:\n",
    "            return [numToIndex[target-nums[i]],i]\n",
    "        numToIndex[nums[i]]=i\n",
    "    return []"
   ]
  },
  {
   "cell_type": "code",
   "execution_count": null,
   "id": "ca5feca8",
   "metadata": {},
   "outputs": [],
   "source": []
  },
  {
   "cell_type": "markdown",
   "id": "8c48cd19",
   "metadata": {},
   "source": [
    "<aside>\n",
    "💡 **Q2.** Given an integer array nums and an integer val, remove all occurrences of val in nums in-place. The order of the elements may be changed. Then return the number of elements in nums which are not equal to val.\n",
    "\n",
    "Consider the number of elements in nums which are not equal to val be k, to get accepted, you need to do the following things:\n",
    "\n",
    "- Change the array nums such that the first k elements of nums contain the elements which are not equal to val. The remaining elements of nums are not important as well as the size of nums.\n",
    "- Return k.\n",
    "</aside>"
   ]
  },
  {
   "cell_type": "code",
   "execution_count": 3,
   "id": "c33ff862",
   "metadata": {},
   "outputs": [],
   "source": [
    "def Remove_Element(nums,k):\n",
    "    count=0\n",
    "    for i in range(len(nums)):\n",
    "        if nums[i]!=k:\n",
    "            nums[count]=nums[i]\n",
    "            count+=1\n",
    "\n",
    "    return count"
   ]
  },
  {
   "cell_type": "code",
   "execution_count": 10,
   "id": "df591c97",
   "metadata": {},
   "outputs": [
    {
     "data": {
      "text/plain": [
       "2"
      ]
     },
     "execution_count": 10,
     "metadata": {},
     "output_type": "execute_result"
    }
   ],
   "source": [
    "ls=[3,2,2,3]\n",
    "k=3\n",
    "Remove_Element(ls,k)"
   ]
  },
  {
   "cell_type": "markdown",
   "id": "d1533f00",
   "metadata": {},
   "source": [
    "<aside>\n",
    "💡 **Q3.** Given a sorted array of distinct integers and a target value, return the index if the target is found. If not, return the index where it would be if it were inserted in order.\n",
    "\n",
    "You must write an algorithm with O(log n) runtime complexity.\n",
    "\n",
    "**Example 1:**\n",
    "Input: nums = [1,3,5,6], target = 5\n",
    "\n",
    "Output: 2\n",
    "\n",
    "</aside>"
   ]
  },
  {
   "cell_type": "code",
   "execution_count": 11,
   "id": "7b691edc",
   "metadata": {},
   "outputs": [],
   "source": [
    "def searchInsert(nums, target):\n",
    "    l = 0\n",
    "    r = len(nums)\n",
    "\n",
    "    while l<r:\n",
    "        m=(l+r)//2\n",
    "        if num[m]==target:\n",
    "            return m\n",
    "        if num[m]<target:\n",
    "            l=m+1\n",
    "        else:\n",
    "            r=m\n",
    "    return 1"
   ]
  },
  {
   "cell_type": "markdown",
   "id": "bb6b85f4",
   "metadata": {},
   "source": [
    "<aside>\n",
    "💡 **Q4.** You are given a large integer represented as an integer array digits, where each digits[i] is the ith digit of the integer. The digits are ordered from most significant to least significant in left-to-right order. The large integer does not contain any leading 0's.\n",
    "\n",
    "Increment the large integer by one and return the resulting array of digits.\n",
    "\n",
    "**Example 1:**\n",
    "Input: digits = [1,2,3]\n",
    "Output: [1,2,4]\n",
    "\n",
    "**Explanation:** The array represents the integer 123.\n",
    "\n",
    "Incrementing by one gives 123 + 1 = 124.\n",
    "Thus, the result should be [1,2,4].\n",
    "\n",
    "</aside>"
   ]
  },
  {
   "cell_type": "code",
   "execution_count": 13,
   "id": "3bfa08d8",
   "metadata": {},
   "outputs": [],
   "source": [
    "\n",
    "    def plusOne(digits):\n",
    "        n = len(digits)\n",
    "        for i in range(n - 1, -1, -1):\n",
    "            print(\"1st\",digits[i])\n",
    "            digits[i] += 1\n",
    "            print(\"2nd\",digits[i])\n",
    "            digits[i] %= 10\n",
    "            print(\"3rd\",digits[i])\n",
    "            if digits[i] != 0:\n",
    "                return digits\n",
    "        return [1] + digits"
   ]
  },
  {
   "cell_type": "code",
   "execution_count": 14,
   "id": "192eae4a",
   "metadata": {},
   "outputs": [
    {
     "name": "stdout",
     "output_type": "stream",
     "text": [
      "1st 3\n",
      "2nd 4\n",
      "3rd 4\n",
      "[1, 2, 4]\n"
     ]
    }
   ],
   "source": [
    "ls=[1,2,3]\n",
    "print(plusOne(ls))"
   ]
  },
  {
   "cell_type": "markdown",
   "id": "5ea8168a",
   "metadata": {},
   "source": [
    "<aside>\n",
    "💡 **Q5.** You are given two integer arrays nums1 and nums2, sorted in non-decreasing order, and two integers m and n, representing the number of elements in nums1 and nums2 respectively.\n",
    "\n",
    "Merge nums1 and nums2 into a single array sorted in non-decreasing order.\n",
    "\n",
    "The final sorted array should not be returned by the function, but instead be stored inside the array nums1. To accommodate this, nums1 has a length of m + n, where the first m elements denote the elements that should be merged, and the last n elements are set to 0 and should be ignored. nums2 has a length of n.\n",
    "\n",
    "**Example 1:**\n",
    "Input: nums1 = [1,2,3,0,0,0], m = 3, nums2 = [2,5,6], n = 3\n",
    "Output: [1,2,2,3,5,6]\n",
    "\n",
    "**Explanation:** The arrays we are merging are [1,2,3] and [2,5,6].\n",
    "The result of the merge is [1,2,2,3,5,6] with the underlined elements coming from nums1.\n",
    "\n",
    "</aside>"
   ]
  },
  {
   "cell_type": "code",
   "execution_count": 15,
   "id": "c33f4e6f",
   "metadata": {},
   "outputs": [],
   "source": [
    "def merge(nums1, m, nums2, n):\n",
    "        pointer = len(nums1) - 1\n",
    "        m = m - 1\n",
    "        n = n - 1\n",
    "        \n",
    "        while m >= 0 and n >= 0:\n",
    "            if nums1[m] >= nums2[n]:\n",
    "                nums1[pointer] = nums1[m]\n",
    "                m -= 1\n",
    "            else:\n",
    "                nums1[pointer] = nums2[n]\n",
    "                n -= 1\n",
    "                \n",
    "            pointer -= 1\n",
    "            \n",
    "        if n >= 0:\n",
    "            nums1[:n+1] = nums2[:n+1]"
   ]
  },
  {
   "cell_type": "markdown",
   "id": "3bd809e6",
   "metadata": {},
   "source": [
    "<aside>\n",
    "💡 **Q6.** Given an integer array nums, return true if any value appears at least twice in the array, and return false if every element is distinct.\n",
    "\n",
    "**Example 1:**\n",
    "Input: nums = [1,2,3,1]\n",
    "\n",
    "Output: true\n",
    "\n",
    "</aside>"
   ]
  },
  {
   "cell_type": "code",
   "execution_count": 17,
   "id": "384b30a7",
   "metadata": {},
   "outputs": [],
   "source": [
    "def containsDuplicate(self, nums) -> bool:\n",
    "        hasSet = set()\n",
    "        for i in nums:\n",
    "            if i in hasSet:\n",
    "                return True\n",
    "            hasSet.add(i)\n",
    "        return False"
   ]
  },
  {
   "cell_type": "markdown",
   "id": "fc0d7bd5",
   "metadata": {},
   "source": [
    "<aside>\n",
    "💡 **Q7.** Given an integer array nums, move all 0's to the end of it while maintaining the relative order of the nonzero elements.\n",
    "\n",
    "Note that you must do this in-place without making a copy of the array.\n",
    "\n",
    "**Example 1:**\n",
    "Input: nums = [0,1,0,3,12]\n",
    "Output: [1,3,12,0,0]\n",
    "\n",
    "</aside>"
   ]
  },
  {
   "cell_type": "code",
   "execution_count": 19,
   "id": "fce45900",
   "metadata": {},
   "outputs": [],
   "source": [
    "class Solution:\n",
    "    def moveZeroes(self, nums):\n",
    "        \"\"\"\n",
    "        Do not return anything, modify nums in-place instead.\n",
    "        \"\"\"\n",
    "        l=0\n",
    "        for i in range(len(nums)):\n",
    "            if nums[i]:\n",
    "                nums[l],nums[i]=nums[i],nums[l]\n",
    "                l+=1\n",
    "        return nums\n"
   ]
  },
  {
   "cell_type": "markdown",
   "id": "8addb816",
   "metadata": {},
   "source": [
    "<aside>\n",
    "💡 **Q8.** You have a set of integers s, which originally contains all the numbers from 1 to n. Unfortunately, due to some error, one of the numbers in s got duplicated to another number in the set, which results in repetition of one number and loss of another number.\n",
    "\n",
    "You are given an integer array nums representing the data status of this set after the error.\n",
    "\n",
    "Find the number that occurs twice and the number that is missing and return them in the form of an array.\n",
    "\n",
    "**Example 1:**\n",
    "Input: nums = [1,2,2,4]\n",
    "Output: [2,3]\n",
    "\n",
    "</aside>"
   ]
  },
  {
   "cell_type": "code",
   "execution_count": 20,
   "id": "d4fe4c78",
   "metadata": {},
   "outputs": [],
   "source": [
    "class Solution:\n",
    "    def findErrorNums(self, nums):\n",
    "        for num in nums:\n",
    "            if nums[abs(num) - 1] < 0:\n",
    "                duplicate = abs(num)\n",
    "            else:\n",
    "                nums[abs(num) - 1] *= -1\n",
    "\n",
    "        for i, num in enumerate(nums):\n",
    "            if num > 0:\n",
    "                return [duplicate, i + 1]"
   ]
  },
  {
   "cell_type": "code",
   "execution_count": null,
   "id": "4e91ada1",
   "metadata": {},
   "outputs": [],
   "source": []
  }
 ],
 "metadata": {
  "kernelspec": {
   "display_name": "Python 3 (ipykernel)",
   "language": "python",
   "name": "python3"
  },
  "language_info": {
   "codemirror_mode": {
    "name": "ipython",
    "version": 3
   },
   "file_extension": ".py",
   "mimetype": "text/x-python",
   "name": "python",
   "nbconvert_exporter": "python",
   "pygments_lexer": "ipython3",
   "version": "3.9.16"
  }
 },
 "nbformat": 4,
 "nbformat_minor": 5
}

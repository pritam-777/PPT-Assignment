{
 "cells": [
  {
   "cell_type": "markdown",
   "id": "fda72281",
   "metadata": {},
   "source": [
    "2. A number N is represented in Linked List such that each digit corresponds to a node in linked list. You need to add 1 to it."
   ]
  },
  {
   "cell_type": "code",
   "execution_count": 5,
   "id": "c1e63f96",
   "metadata": {},
   "outputs": [],
   "source": [
    "import sys\n",
    "import math\n",
    " \n",
    "class Node:\n",
    "    def __init__(self, data):\n",
    "        self.data = data\n",
    "        self.next = None\n",
    "def newNode(data):\n",
    "    return Node(data)\n",
    " \n",
    "\n",
    "\n",
    " \n"
   ]
  },
  {
   "cell_type": "code",
   "execution_count": 6,
   "id": "af493b92",
   "metadata": {},
   "outputs": [],
   "source": [
    "def reverseList(head):\n",
    "    if not head:\n",
    "        return\n",
    "    curNode = head\n",
    "    prevNode = head\n",
    "    nextNode = head.next\n",
    "    curNode.next = None\n",
    " \n",
    "    while(nextNode):\n",
    "        curNode = nextNode\n",
    "        nextNode = nextNode.next\n",
    "        curNode.next = prevNode\n",
    "        prevNode = curNode\n",
    " \n",
    "    return curNode\n",
    " \n"
   ]
  },
  {
   "cell_type": "code",
   "execution_count": 7,
   "id": "c917a936",
   "metadata": {},
   "outputs": [],
   "source": [
    "def addOne(head):\n",
    " \n",
    "    # Reverse linked list and add one to head\n",
    "    head = reverseList(head)\n",
    "    k = head\n",
    "    carry = 0\n",
    "    prev = None\n",
    "    head.data += 1\n",
    " \n",
    "    # update carry for next calculation\n",
    "    while(head != None) and (head.data > 9 or carry > 0):\n",
    "        prev = head\n",
    "        head.data += carry\n",
    "        carry = head.data // 10\n",
    "        head.data = head.data % 10\n",
    "        head = head.next\n",
    " \n",
    "    if carry > 0:\n",
    "        prev.next = Node(carry)\n",
    "    # Reverse the modified list\n",
    "    return reverseList(k)\n",
    "\n",
    " \n",
    "    "
   ]
  },
  {
   "cell_type": "code",
   "execution_count": 10,
   "id": "3dcd5158",
   "metadata": {},
   "outputs": [
    {
     "name": "stdout",
     "output_type": "stream",
     "text": [
      "List is: 456\n",
      "Resultant list is: 457"
     ]
    }
   ],
   "source": [
    "def printList(head):\n",
    "    if not head:\n",
    "        return\n",
    "    while(head):\n",
    "        print(\"{}\".format(head.data), end=\"\")\n",
    "        head = head.next\n",
    " \n",
    " \n",
    "# Driver code\n",
    "if __name__ == '__main__':\n",
    "    head = newNode(4)\n",
    "    head.next = newNode(5)\n",
    "    head.next.next = newNode(6)\n",
    "    #head.next.next.next = newNode(6)\n",
    " \n",
    "    print(\"List is: \", end=\"\")\n",
    "    printList(head)\n",
    " \n",
    "    head = addOne(head)\n",
    " \n",
    "    print(\"\\nResultant list is: \", end=\"\")\n",
    "    printList(head)\n",
    " "
   ]
  },
  {
   "cell_type": "markdown",
   "id": "ece782ec",
   "metadata": {},
   "source": [
    "3. Given a Linked List of size N, where every node represents a sub-linked-list and contains two pointers:(i) a next pointer to the next node,(ii) a bottom pointer to a linked list where this node is head.Each of the sub-linked-list is in sorted order.Flatten the Link List such that all the nodes appear in a single level while maintaining the sorted order. Note: The flattened list will be printed using the bottom pointer instead of next pointer."
   ]
  },
  {
   "cell_type": "code",
   "execution_count": 11,
   "id": "81795f53",
   "metadata": {},
   "outputs": [],
   "source": [
    "class Node():\n",
    "    def __init__(self, data):\n",
    "        self.data = data\n",
    "        self.right = None\n",
    "        self.down = None"
   ]
  },
  {
   "cell_type": "code",
   "execution_count": 12,
   "id": "9cc58d82",
   "metadata": {},
   "outputs": [],
   "source": [
    "class LinkedList():\n",
    "    def __init__(self):\n",
    "        self.head = None\n",
    "\n",
    "    def push(self, head_ref, data):\n",
    "        new_node = Node(data)\n",
    "        new_node.down = head_ref\n",
    "        head_ref = new_node\n",
    "        return head_ref"
   ]
  },
  {
   "cell_type": "code",
   "execution_count": 13,
   "id": "065e700d",
   "metadata": {},
   "outputs": [],
   "source": [
    "def printList(self):\n",
    "        temp = self.head\n",
    "        while(temp != None):\n",
    "            print(temp.data, end=\" \")\n",
    "            temp = temp.down\n",
    " \n",
    "        print()"
   ]
  },
  {
   "cell_type": "code",
   "execution_count": 14,
   "id": "90643531",
   "metadata": {},
   "outputs": [],
   "source": [
    "def merge(self, a, b):\n",
    "        if(a == None):\n",
    "            return b\n",
    "        if(b == None):\n",
    "            return a\n",
    "        result = None\n",
    " \n",
    "        if (a.data < b.data):\n",
    "            result = a\n",
    "            result.down = self.merge(a.down, b)\n",
    "        else:\n",
    "            result = b\n",
    "            result.down = self.merge(a, b.down)\n",
    " \n",
    "        result.right = None\n",
    "        return result"
   ]
  },
  {
   "cell_type": "code",
   "execution_count": 18,
   "id": "f5fd6974",
   "metadata": {},
   "outputs": [],
   "source": [
    "def flatten(self, root):\n",
    "        if(root == None or root.right == None):\n",
    "            return root\n",
    "        root.right = self.flatten(root.right)\n",
    "        root = self.merge(root, root.right)\n",
    "        return root"
   ]
  },
  {
   "cell_type": "code",
   "execution_count": 19,
   "id": "38bb8155",
   "metadata": {},
   "outputs": [
    {
     "ename": "AttributeError",
     "evalue": "'LinkedList' object has no attribute 'flatten'",
     "output_type": "error",
     "traceback": [
      "\u001b[1;31m---------------------------------------------------------------------------\u001b[0m",
      "\u001b[1;31mAttributeError\u001b[0m                            Traceback (most recent call last)",
      "Input \u001b[1;32mIn [19]\u001b[0m, in \u001b[0;36m<cell line: 1>\u001b[1;34m()\u001b[0m\n\u001b[0;32m     12\u001b[0m L\u001b[38;5;241m.\u001b[39mhead\u001b[38;5;241m.\u001b[39mright\u001b[38;5;241m.\u001b[39mright \u001b[38;5;241m=\u001b[39m L\u001b[38;5;241m.\u001b[39mpush(L\u001b[38;5;241m.\u001b[39mhead\u001b[38;5;241m.\u001b[39mright\u001b[38;5;241m.\u001b[39mright, \u001b[38;5;241m22\u001b[39m)\n\u001b[0;32m     13\u001b[0m L\u001b[38;5;241m.\u001b[39mhead\u001b[38;5;241m.\u001b[39mright\u001b[38;5;241m.\u001b[39mright \u001b[38;5;241m=\u001b[39m L\u001b[38;5;241m.\u001b[39mpush(L\u001b[38;5;241m.\u001b[39mhead\u001b[38;5;241m.\u001b[39mright\u001b[38;5;241m.\u001b[39mright, \u001b[38;5;241m19\u001b[39m)\n\u001b[1;32m---> 14\u001b[0m L\u001b[38;5;241m.\u001b[39mhead \u001b[38;5;241m=\u001b[39m \u001b[43mL\u001b[49m\u001b[38;5;241;43m.\u001b[39;49m\u001b[43mflatten\u001b[49m(L\u001b[38;5;241m.\u001b[39mhead)\n\u001b[0;32m     16\u001b[0m L\u001b[38;5;241m.\u001b[39mprintList()\n",
      "\u001b[1;31mAttributeError\u001b[0m: 'LinkedList' object has no attribute 'flatten'"
     ]
    }
   ],
   "source": [
    "if __name__ == '__main__':\n",
    "    L = LinkedList()\n",
    "    L.head = L.push(L.head, 30)\n",
    "    L.head = L.push(L.head, 8)\n",
    "    L.head = L.push(L.head, 7)\n",
    "    L.head = L.push(L.head, 5)\n",
    " \n",
    "    L.head.right = L.push(L.head.right, 20)\n",
    "    L.head.right = L.push(L.head.right, 10)\n",
    " \n",
    "    L.head.right.right = L.push(L.head.right.right, 50)\n",
    "    L.head.right.right = L.push(L.head.right.right, 22)\n",
    "    L.head.right.right = L.push(L.head.right.right, 19)\n",
    "    L.head = L.flatten(L.head)\n",
    " \n",
    "    L.printList()"
   ]
  },
  {
   "cell_type": "code",
   "execution_count": null,
   "id": "41c8f9bd",
   "metadata": {},
   "outputs": [],
   "source": []
  },
  {
   "cell_type": "code",
   "execution_count": null,
   "id": "3ea60746",
   "metadata": {},
   "outputs": [],
   "source": []
  },
  {
   "cell_type": "code",
   "execution_count": null,
   "id": "f1fd4d90",
   "metadata": {},
   "outputs": [],
   "source": []
  },
  {
   "cell_type": "code",
   "execution_count": null,
   "id": "5052f444",
   "metadata": {},
   "outputs": [],
   "source": []
  },
  {
   "cell_type": "markdown",
   "id": "8fdf0e78",
   "metadata": {},
   "source": [
    "6. Given a singly linked list of size N. The task is to left-shift the linked list by k nodes, where k is a given positive integer smaller than or equal to length of the linked l"
   ]
  },
  {
   "cell_type": "code",
   "execution_count": null,
   "id": "e4d66331",
   "metadata": {},
   "outputs": [],
   "source": [
    "  def rotateRight(self, head: ListNode, k: int) -> ListNode:\n",
    "    if not head or not head.next or k == 0:\n",
    "          return head\n",
    "\n",
    "    tail = head\n",
    "    length = 1\n",
    "    while tail.next:\n",
    "        \n",
    "          tail = tail.next\n",
    "            length += 1\n",
    "        tail.next = head  # Circle the list\n",
    "\n",
    "    t = length - k % length\n",
    "    for _ in range(t):\n",
    "          tail = tail.next\n",
    "    newHead = tail.next\n",
    "    tail.next = None\n",
    "\n",
    "    return newHead"
   ]
  },
  {
   "cell_type": "markdown",
   "id": "01eb737c",
   "metadata": {},
   "source": [
    "7. You are given the `head` of a linked list with `n` nodes.\n",
    "\n",
    "For each node in the list, find the value of the **next greater node**. That is, for each node, find the value of the first node that is next to it and has a **strictly larger** value than it.\n",
    "\n",
    "Return an integer array `answer` where `answer[i]` is the value of the next greater node of the `ith` node (**1-indexed**). If the `ith` node does not have a next greater node, set `answer[i] = 0`."
   ]
  },
  {
   "cell_type": "code",
   "execution_count": 24,
   "id": "d03b98e7",
   "metadata": {},
   "outputs": [
    {
     "ename": "NameError",
     "evalue": "name 'ListNode' is not defined",
     "output_type": "error",
     "traceback": [
      "\u001b[1;31m---------------------------------------------------------------------------\u001b[0m",
      "\u001b[1;31mNameError\u001b[0m                                 Traceback (most recent call last)",
      "Input \u001b[1;32mIn [24]\u001b[0m, in \u001b[0;36m<cell line: 1>\u001b[1;34m()\u001b[0m\n\u001b[1;32m----> 1\u001b[0m \u001b[38;5;28;01mdef\u001b[39;00m \u001b[38;5;21mnextLargerNodes\u001b[39m(\u001b[38;5;28mself\u001b[39m, head: \u001b[43mListNode\u001b[49m) \u001b[38;5;241m-\u001b[39m\u001b[38;5;241m>\u001b[39m List[\u001b[38;5;28mint\u001b[39m]:\n\u001b[0;32m      2\u001b[0m   ans \u001b[38;5;241m=\u001b[39m []\n\u001b[0;32m      3\u001b[0m   stack \u001b[38;5;241m=\u001b[39m []\n",
      "\u001b[1;31mNameError\u001b[0m: name 'ListNode' is not defined"
     ]
    }
   ],
   "source": [
    "  def nextLargerNodes(self, head: ListNode) -> List[int]:\n",
    "    ans = []\n",
    "    stack = []\n",
    "\n",
    "    while head:\n",
    "          while stack and head.val > ans[stack[-1]]:\n",
    "            index = stack.pop()\n",
    "            ans[index] = head.val\n",
    "            stack.append(len(ans))\n",
    "            ans.append(head.val)\n",
    "            head = head.next\n",
    "\n",
    "    for i in stack:\n",
    "        ans[i] = 0\n",
    "\n",
    "    return ans"
   ]
  },
  {
   "cell_type": "markdown",
   "id": "af7064ea",
   "metadata": {},
   "source": [
    "8. Given the `head` of a linked list, we repeatedly delete consecutive sequences of nodes that sum to `0` until there are no such sequences.\n",
    "\n",
    "After doing so, return the head of the final linked list.  You may return any such answer.\n",
    "\n",
    "(Note that in the examples below, all sequences are serializations of `ListNode` objects.)"
   ]
  },
  {
   "cell_type": "code",
   "execution_count": null,
   "id": "6c9da8ae",
   "metadata": {},
   "outputs": [],
   "source": [
    "class ListNode:\n",
    "    def __init__(self, val=0, next=None):\n",
    "        self.val = val\n",
    "        self.next = next\n",
    "class Solution:\n",
    "    def removeZeroSumSublists(self, head: ListNode) -> ListNode:\n",
    "        arr=[]\n",
    "        curr=head\n",
    "        while curr:#Get all the values of LinkedList\n",
    "            arr.append(curr.val)\n",
    "            curr=curr.next\n",
    "        i=0\n",
    "        while True:#Remove all the 0's from the arr\n",
    "            if 0 in arr:\n",
    "                arr.remove(0)\n",
    "            else:\n",
    "                break\n",
    "        if not arr:\n",
    "            return None\n",
    "        dp=[arr[0]]\n",
    "        j=1\n",
    "        while j<len(arr):\n",
    "            if not dp:\n",
    "                dp.append(arr[j])\n",
    "                j+=1\n",
    "                continue\n",
    "            sm=arr[j]+dp[-1]\n",
    "            if sm==0:\n",
    "                arr=arr[j+1:]#Remove everything from the left of the arr\n",
    "                dp.clear()\n",
    "                j=0\n",
    "            elif sm in dp:#Means we found a subarray that sum to 0\n",
    "                ind=dp.index(sm)\n",
    "                dp=dp[:ind+1]#Remove the dp values after the index\n",
    "                k=j\n",
    "                while k>ind:#Remove the arr values till ind\n",
    "                    del arr[k]\n",
    "                    k-=1\n",
    "                j=ind+1\n",
    "            else:\n",
    "                dp.append(sm)\n",
    "                j+=1\n",
    "        def DFS(a):\n",
    "            if not a:\n",
    "                return None\n",
    "            return ListNode(a.pop(0),DFS(a))\n",
    "\n",
    "        return DFS(arr)"
   ]
  }
 ],
 "metadata": {
  "kernelspec": {
   "display_name": "Python 3 (ipykernel)",
   "language": "python",
   "name": "python3"
  },
  "language_info": {
   "codemirror_mode": {
    "name": "ipython",
    "version": 3
   },
   "file_extension": ".py",
   "mimetype": "text/x-python",
   "name": "python",
   "nbconvert_exporter": "python",
   "pygments_lexer": "ipython3",
   "version": "3.9.12"
  }
 },
 "nbformat": 4,
 "nbformat_minor": 5
}

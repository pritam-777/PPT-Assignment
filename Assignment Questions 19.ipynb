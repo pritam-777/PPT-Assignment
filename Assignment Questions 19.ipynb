{
 "cells": [
  {
   "cell_type": "markdown",
   "id": "71823b21",
   "metadata": {},
   "source": [
    "3. Given an array of integers `nums`, sort the array in ascending order and return it.\n",
    "\n",
    "You must solve the problem **without using any built-in** functions in `O(nlog(n))` time complexity and with the smallest space complexity possible."
   ]
  },
  {
   "cell_type": "code",
   "execution_count": 4,
   "id": "4606c186",
   "metadata": {},
   "outputs": [],
   "source": [
    "def sortArray(self, nums):\n",
    "    # Quick Sort Recursion\n",
    "    if len(nums) == 1:\n",
    "        return nums\n",
    "    if not nums:\n",
    "        return []\n",
    "    pick = random.choice(nums)\n",
    "    left, mid, right = [], [], []\n",
    "    for i in nums:\n",
    "        if i < pick:\n",
    "            left.append(i)\n",
    "        elif i > pick:\n",
    "            right.append(i)\n",
    "        else:\n",
    "            mid.append(i)\n",
    "    return self.sortArray(left) + mid + self.sortArray(right)\n"
   ]
  },
  {
   "cell_type": "markdown",
   "id": "fa07bc8d",
   "metadata": {},
   "source": [
    "4. Given an array of random numbers, Push all the zero’s of a given array to the end of the array. For example, if the given arrays is {1, 9, 8, 4, 0, 0, 2, 7, 0, 6, 0}, it should be changed to {1, 9, 8, 4, 2, 7, 6, 0, 0, 0, 0}. The order of all other elements should be same. Expected time complexity is O(n) and extra space is O(1)."
   ]
  },
  {
   "cell_type": "code",
   "execution_count": 5,
   "id": "837c1d75",
   "metadata": {},
   "outputs": [],
   "source": [
    "    def moveZeroes(self, nums) -> None:\n",
    " \n",
    "        l=0\n",
    "        for i in range(len(nums)):\n",
    "            if nums[i]:\n",
    "                nums[l],nums[i]=nums[i],nums[l]\n",
    "                l+=1\n",
    "        return nums"
   ]
  },
  {
   "cell_type": "markdown",
   "id": "723abb3f",
   "metadata": {},
   "source": [
    "5. Given an array of positive and negative numbers, arrange them in an alternate fashion such that every positive number is followed by a negative and vice-versa maintaining the order of appearance. The number of positive and negative numbers need not be equal. If there are more positive numbers they appear at the end of the array. If there are more negative numbers, they too appear at the end of the array."
   ]
  },
  {
   "cell_type": "code",
   "execution_count": 7,
   "id": "ec96d963",
   "metadata": {},
   "outputs": [],
   "source": [
    "def rearrangeArray(self, nums):\n",
    "        p, n = [x for x in nums if x > 0], [x for x in nums if x < 0]\n",
    "        a = []\n",
    "        for i in range(len(p)):\n",
    "            a.append(p[i])\n",
    "            a.append(n[i])\n",
    "        return a "
   ]
  },
  {
   "cell_type": "markdown",
   "id": "9b82177d",
   "metadata": {},
   "source": [
    "6. Given two sorted arrays, the task is to merge them in a sorted manner."
   ]
  },
  {
   "cell_type": "code",
   "execution_count": 8,
   "id": "929eb425",
   "metadata": {},
   "outputs": [],
   "source": [
    "    def merge(self, nums1, m, nums2, n):\n",
    "\n",
    "        nums1Copy = nums1[:m]\n",
    "        p1, p2 = 0, 0\n",
    "        p = 0\n",
    " \n",
    "        while p < m + n:\n",
    "            if p2 >= n or (p1 < m and nums1Copy[p1] < nums2[p2]):\n",
    "                nums1[p] = nums1Copy[p1]\n",
    "                p1 += 1\n",
    "            else:\n",
    "                nums1[p] = nums2[p2]\n",
    "                p2 += 1\n",
    "            p += 1"
   ]
  },
  {
   "cell_type": "markdown",
   "id": "4d9c5319",
   "metadata": {},
   "source": [
    "7. Given two integer arrays nums1 and nums2, return an array of their intersection. Each element in the result must be unique and you may return the result in any order."
   ]
  },
  {
   "cell_type": "code",
   "execution_count": 10,
   "id": "f555002b",
   "metadata": {},
   "outputs": [],
   "source": [
    "  def intersection(self, nums1, nums2):\n",
    "    ans = []\n",
    "    nums1 = set(nums1)\n",
    "\n",
    "    for num in nums2:\n",
    "        if num in nums1:\n",
    "            ans.append(num)\n",
    "            nums1.remove(num)\n",
    "\n",
    "    return ans"
   ]
  },
  {
   "cell_type": "markdown",
   "id": "f838a25e",
   "metadata": {},
   "source": [
    "8. Given two integer arrays nums1 and nums2, return an array of their intersection. Each element in the result must appear as many times as it shows in both arrays and you may return the result in any order."
   ]
  },
  {
   "cell_type": "code",
   "execution_count": null,
   "id": "8ed94b7c",
   "metadata": {},
   "outputs": [],
   "source": [
    "def intersect(self, nums1: List[int], nums2: List[int]) -> List[int]:\n",
    "\n",
    "      if not nums1 or not nums2:\n",
    "        return []\n",
    "\n",
    "        map1 = collections.Counter(nums1)\n",
    "\n",
    "        result = []\n",
    "\n",
    "    for num in nums2:\n",
    "        if num in map1 and map1[num]:\n",
    "            result.append(num)\n",
    "            map1[num] -= 1\n",
    "    \n",
    "      return result\n",
    "        "
   ]
  }
 ],
 "metadata": {
  "kernelspec": {
   "display_name": "Python 3 (ipykernel)",
   "language": "python",
   "name": "python3"
  },
  "language_info": {
   "codemirror_mode": {
    "name": "ipython",
    "version": 3
   },
   "file_extension": ".py",
   "mimetype": "text/x-python",
   "name": "python",
   "nbconvert_exporter": "python",
   "pygments_lexer": "ipython3",
   "version": "3.9.12"
  }
 },
 "nbformat": 4,
 "nbformat_minor": 5
}

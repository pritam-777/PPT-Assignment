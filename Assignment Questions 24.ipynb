{
 "cells": [
  {
   "cell_type": "markdown",
   "id": "6169c85b",
   "metadata": {},
   "source": [
    "<aside>\n",
    "💡 1. **Roman to Integer**\n",
    "\n",
    "Roman numerals are represented by seven different symbols: `I`, `V`, `X`, `L`, `C`, `D` and `M`.\n",
    "\n",
    "```\n",
    "SymbolValue\n",
    "I             1\n",
    "V             5\n",
    "X             10\n",
    "L             50\n",
    "C             100\n",
    "D             500\n",
    "M             1000\n",
    "```\n",
    "\n",
    "For example, `2` is written as `II` in Roman numeral, just two ones added together. `12` is written as `XII`, which is simply `X + II`. The number `27` is written as `XXVII`, which is `XX + V + II`.\n",
    "\n",
    "Roman numerals are usually written largest to smallest from left to right. However, the numeral for four is not `IIII`. Instead, the number four is written as `IV`. Because the one is before the five we subtract it making four. The same principle applies to the number nine, which is written as `IX`. There are six instances where subtraction is used:\n",
    "\n",
    "- `I` can be placed before `V` (5) and `X` (10) to make 4 and 9.\n",
    "- `X` can be placed before `L` (50) and `C` (100) to make 40 and 90.\n",
    "- `C` can be placed before `D` (500) and `M` (1000) to make 400 and 900.\n",
    "\n",
    "Given a roman numeral, convert it to an integer.\n",
    "\n",
    "</aside>"
   ]
  },
  {
   "cell_type": "code",
   "execution_count": 1,
   "id": "c66e6117",
   "metadata": {},
   "outputs": [],
   "source": [
    "def romanToInt(s: str) -> int:\n",
    "   \n",
    "    roman_map = {'I': 1, 'V': 5, 'X': 10, 'L': 50, 'C': 100, 'D': 500, 'M': 1000}\n",
    "    n = len(s)\n",
    "\n",
    "    num = roman_map[s[n - 1]]\n",
    "    for i in range(n - 2, -1, -1):\n",
    "        if roman_map[s[i]] >= roman_map[s[i + 1]]:\n",
    "            num += roman_map[s[i]]\n",
    "        else:\n",
    "            num "
   ]
  },
  {
   "cell_type": "markdown",
   "id": "930e3cbe",
   "metadata": {},
   "source": [
    "<aside>\n",
    "💡  **Longest Substring Without Repeating Characters**\n",
    "\n",
    "Given a string `s`, find the length of the **longest substring** without repeating characters.\n",
    "\n",
    "</aside>"
   ]
  },
  {
   "cell_type": "code",
   "execution_count": 3,
   "id": "7ee48bf6",
   "metadata": {},
   "outputs": [],
   "source": [
    "def areDistinct(str, i, j):\n",
    "    visited = [0] * (26)\n",
    " \n",
    "    for k in range(i, j + 1):\n",
    "        if (visited[ord(str[k]) -\n",
    "                   ord('a')] == True):\n",
    "            return False\n",
    "             \n",
    "        visited[ord(str[k]) -\n",
    "                ord('a')] = True\n",
    "    return True\n",
    " \n",
    "def longestUniqueSubsttr(str):  \n",
    "    n = len(str)\n",
    "\n",
    "    res = 0\n",
    "     \n",
    "    for i in range(n):\n",
    "        for j in range(i, n):\n",
    "            if (areDistinct(str, i, j)):\n",
    "                res = max(res, j - i + 1)\n",
    "                 \n",
    "    return res"
   ]
  },
  {
   "cell_type": "markdown",
   "id": "8fd51d1a",
   "metadata": {},
   "source": [
    "<aside>\n",
    "💡  **Majority Element**\n",
    "\n",
    "Given an array `nums` of size `n`, return *the majority element*.\n",
    "\n",
    "The majority element is the element that appears more than `⌊n / 2⌋` times. You may assume that the majority element always exists in the array.\n",
    "\n",
    "</aside>"
   ]
  },
  {
   "cell_type": "code",
   "execution_count": 4,
   "id": "b242e1b2",
   "metadata": {},
   "outputs": [],
   "source": [
    "    def majorityElement(self, nums) -> int:\n",
    "\n",
    "        candidate = 0\n",
    "        counter = 0\n",
    "        for i in nums:\n",
    "                if counter==0:\n",
    "                        candidate=i\n",
    "                if candidate==i:\n",
    "                        counter+=1\n",
    "                else:\n",
    "                    counter -= 1\n",
    "        return candidate"
   ]
  },
  {
   "cell_type": "markdown",
   "id": "d6f8b7f4",
   "metadata": {},
   "source": [
    "An ugly number is a positive integer whose prime factors are limited to 2, 3, and 5.\n",
    "\n",
    "Given an integer n, return true if n is an ugly number."
   ]
  },
  {
   "cell_type": "code",
   "execution_count": 5,
   "id": "3bc86899",
   "metadata": {},
   "outputs": [],
   "source": [
    "def isUgly(self, num: int) -> bool:\n",
    "        if num==0: return False\n",
    "        for f in [2,3,5]:\n",
    "            while num%f==0:\n",
    "                num/=f\n",
    "            if num == 1:\n",
    "                return True"
   ]
  },
  {
   "cell_type": "markdown",
   "id": "b1e13d61",
   "metadata": {},
   "source": [
    "<aside>\n",
    "💡  **Top K Frequent Words**\n",
    "\n",
    "Given an array of strings `words` and an integer `k`, return *the* `k` *most frequent strings*.\n",
    "\n",
    "Return the answer **sorted** by **the frequency** from highest to lowest. Sort the words with the same frequency by their **lexicographical order**.\n",
    "\n",
    "</aside>"
   ]
  },
  {
   "cell_type": "code",
   "execution_count": 6,
   "id": "bbf95c52",
   "metadata": {},
   "outputs": [],
   "source": [
    " def topKFrequent(self, words, k):\n",
    "\n",
    "        d = collections.defaultdict(int)\n",
    "        for word in words:\n",
    "            d[str(word)] += 1\n",
    "\n",
    "        return [i[0] for i in sorted(d.items(), key = lambda x : (-x[1], x[0]))[:k]] "
   ]
  },
  {
   "cell_type": "markdown",
   "id": "40953718",
   "metadata": {},
   "source": [
    "<aside>\n",
    "💡 8. **Find K Closest Elements**\n",
    "\n",
    "Given a **sorted** integer array `arr`, two integers `k` and `x`, return the `k` closest integers to `x` in the array. The result should also be sorted in ascending order.\n",
    "\n",
    "An integer `a` is closer to `x` than an integer `b` if:\n",
    "\n",
    "- `|a - x| < |b - x|`, or\n",
    "- `|a - x| == |b - x|` and `a < b`\n",
    "</aside>"
   ]
  },
  {
   "cell_type": "code",
   "execution_count": null,
   "id": "4dfbf3c5",
   "metadata": {},
   "outputs": [],
   "source": [
    "  def findClosestElements(self, arr: List[int], k: int, x: int) -> List[int]:\n",
    "    l = 0\n",
    "    r = len(arr) - k\n",
    "\n",
    "    while l < r:\n",
    "        m = (l + r) // 2\n",
    "        if x - arr[m] <= arr[m + k] - x:\n",
    "            r = m\n",
    "        else:\n",
    "            l = m + 1\n",
    "\n",
    "    return arr[l:l + k]"
   ]
  }
 ],
 "metadata": {
  "kernelspec": {
   "display_name": "Python 3 (ipykernel)",
   "language": "python",
   "name": "python3"
  },
  "language_info": {
   "codemirror_mode": {
    "name": "ipython",
    "version": 3
   },
   "file_extension": ".py",
   "mimetype": "text/x-python",
   "name": "python",
   "nbconvert_exporter": "python",
   "pygments_lexer": "ipython3",
   "version": "3.9.12"
  }
 },
 "nbformat": 4,
 "nbformat_minor": 5
}

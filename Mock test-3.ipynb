{
 "cells": [
  {
   "cell_type": "markdown",
   "id": "608428c6",
   "metadata": {},
   "source": [
    "1. Implement a stack using a list in Python. Include the necessary methods such as push, pop, and isEmpty."
   ]
  },
  {
   "cell_type": "code",
   "execution_count": 1,
   "id": "c9fa914d",
   "metadata": {},
   "outputs": [],
   "source": [
    "# Stack Creation\n",
    "def create_stack():\n",
    "    stack = list()           \n",
    "    return stack\n",
    "\n",
    "\n",
    "# Checking for empty stack\n",
    "def Isempty(stack):\n",
    "    return len(stack) == 0\n",
    "\n",
    "\n",
    "# Inserting items into the stack\n",
    "def push(stack, n):\n",
    "    stack.append(n)\n",
    "    print(\"pushed item: \" + n)\n",
    "\n",
    "\n",
    "# Removal of an element from the stack\n",
    "def pop(stack):\n",
    "    if (Isempty(stack)):\n",
    "        return \"stack is empty\"\n",
    "    else:\n",
    "        return stack.pop()\n"
   ]
  },
  {
   "cell_type": "code",
   "execution_count": 2,
   "id": "0d0a5395",
   "metadata": {},
   "outputs": [
    {
     "name": "stdout",
     "output_type": "stream",
     "text": [
      "pushed item: 10\n",
      "pushed item: 20\n",
      "pushed item: 30\n",
      "pushed item: 40\n",
      "popped item: 40\n",
      "The stack elements are:\n",
      "10\n",
      "20\n",
      "30\n"
     ]
    }
   ],
   "source": [
    "def show(stack):\n",
    "    print(\"The stack elements are:\")\n",
    "    for i in stack:\n",
    "        print(i)\n",
    "        \n",
    "stack = create_stack()\n",
    "push(stack, str(10))\n",
    "push(stack, str(20))\n",
    "push(stack, str(30))\n",
    "push(stack, str(40))\n",
    "print(\"popped item: \" + pop(stack))\n",
    "show(stack)"
   ]
  },
  {
   "cell_type": "markdown",
   "id": "f1b88b67",
   "metadata": {},
   "source": [
    "2. Implement a queue using a list in Python. Include the necessary methods such as enqueue, dequeue, and isEmpty."
   ]
  },
  {
   "cell_type": "code",
   "execution_count": 3,
   "id": "133f9ce2",
   "metadata": {},
   "outputs": [
    {
     "name": "stdout",
     "output_type": "stream",
     "text": [
      "Queue's current front 1\n",
      "Queue's current rear 4\n",
      "Queue's current front 3\n",
      "Queue's current rear 4\n"
     ]
    }
   ],
   "source": [
    "\n",
    "from collections import deque\n",
    "\n",
    "\n",
    "class QueueNode:\n",
    "    def __init__(self, data):\n",
    "        self.data = data\n",
    "        self.next = None\n",
    "\n",
    "class Queue:\n",
    "\n",
    "    def __init__(self):\n",
    "        self.front = None\n",
    "        self.rear = None\n",
    "\n",
    "    def empty(self):\n",
    "        return self.front == None\n",
    "\n",
    "    def enqueue(self, item):\n",
    "        temp = QueueNode(item)\n",
    "\n",
    "        if self.rear == None:\n",
    "            self.front = temp\n",
    "            self.rear = temp\n",
    "            return\n",
    "\n",
    "        self.rear.next = temp\n",
    "        self.rear = temp\n",
    "    def dequeue(self):\n",
    "\n",
    "        if self.empty():\n",
    "            return\n",
    "\n",
    "        temp = self.front\n",
    "        self.front = temp.next\n",
    "\n",
    "        if(self.front == None):\n",
    "            self.rear = None\n",
    "\n",
    "\n",
    "if __name__ == '__main__':\n",
    "    queue = Queue()\n",
    "    queue.enqueue(1)\n",
    "    queue.enqueue(2)\n",
    "    queue.enqueue(3)\n",
    "    queue.enqueue(4)\n",
    "\n",
    "    print(\"Queue's current front \" + str(queue.front.data))\n",
    "    print(\"Queue's current rear \" + str(queue.rear.data))\n",
    "\n",
    "    queue.dequeue()\n",
    "    queue.dequeue()\n",
    "\n",
    "    print(\"Queue's current front \" + str(queue.front.data))\n",
    "    print(\"Queue's current rear \" + str(queue.rear.data))\n",
    "\n"
   ]
  },
  {
   "cell_type": "code",
   "execution_count": null,
   "id": "78b9ff3e",
   "metadata": {},
   "outputs": [],
   "source": []
  }
 ],
 "metadata": {
  "kernelspec": {
   "display_name": "Python 3 (ipykernel)",
   "language": "python",
   "name": "python3"
  },
  "language_info": {
   "codemirror_mode": {
    "name": "ipython",
    "version": 3
   },
   "file_extension": ".py",
   "mimetype": "text/x-python",
   "name": "python",
   "nbconvert_exporter": "python",
   "pygments_lexer": "ipython3",
   "version": "3.9.12"
  }
 },
 "nbformat": 4,
 "nbformat_minor": 5
}

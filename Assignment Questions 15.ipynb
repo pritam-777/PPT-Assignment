{
 "cells": [
  {
   "cell_type": "markdown",
   "id": "f60e3aa1",
   "metadata": {},
   "source": [
    "Given an array a of integers of length n, find the nearest smaller number for every element such that the smaller element is on left side.If no small element present on the left print -1"
   ]
  },
  {
   "cell_type": "code",
   "execution_count": 2,
   "id": "edc55a13",
   "metadata": {},
   "outputs": [
    {
     "name": "stdout",
     "output_type": "stream",
     "text": [
      "_, 1, 1, "
     ]
    }
   ],
   "source": [
    "import math as mt\n",
    "\n",
    "def printPrevSmaller(arr, n):\n",
    "    S = list()\n",
    "    for i in range(n):\n",
    "     \n",
    "\n",
    "        while (len(S) > 0 and S[-1] >= arr[i]):\n",
    "            S.pop()\n",
    " \n",
    "        if (len(S) == 0):\n",
    "            print(\"_, \", end = \"\")\n",
    "        else: \n",
    "            print(S[-1], end = \", \")\n",
    "\n",
    "        S.append(arr[i])\n",
    "     \n",
    "\n",
    "arr = [ 1,6,2]\n",
    "n = len(arr)\n",
    "printPrevSmaller(arr, n)"
   ]
  },
  {
   "cell_type": "markdown",
   "id": "372a660d",
   "metadata": {},
   "source": [
    "Implement a Stack using two queues q1 and q2."
   ]
  },
  {
   "cell_type": "code",
   "execution_count": 3,
   "id": "09b8344f",
   "metadata": {},
   "outputs": [
    {
     "name": "stdout",
     "output_type": "stream",
     "text": [
      "current size:  3\n",
      "3\n",
      "2\n",
      "1\n",
      "current size:  1\n"
     ]
    }
   ],
   "source": [
    "from _collections import deque\n",
    " \n",
    " \n",
    "class Stack:\n",
    " \n",
    "    def __init__(self):\n",
    "\n",
    "        self.q1 = deque()\n",
    "        self.q2 = deque()\n",
    " \n",
    "    def push(self, x):\n",
    "\n",
    "        self.q2.append(x)\n",
    " \n",
    "        while (self.q1):\n",
    "            self.q2.append(self.q1.popleft())\n",
    "        self.q1, self.q2 = self.q2, self.q1\n",
    " \n",
    "    def pop(self):\n",
    "\n",
    "        if self.q1:\n",
    "            self.q1.popleft()\n",
    " \n",
    "    def top(self):\n",
    "        if (self.q1):\n",
    "            return self.q1[0]\n",
    "        return None\n",
    " \n",
    "    def size(self):\n",
    "        return len(self.q1)\n",
    " \n",
    " \n",
    "if __name__ == '__main__':\n",
    "    s = Stack()\n",
    "    s.push(1)\n",
    "    s.push(2)\n",
    "    s.push(3)\n",
    " \n",
    "    print(\"current size: \", s.size())\n",
    "    print(s.top())\n",
    "    s.pop()\n",
    "    print(s.top())\n",
    "    s.pop()\n",
    "    print(s.top())\n",
    " \n",
    "    print(\"current size: \", s.size())"
   ]
  },
  {
   "cell_type": "markdown",
   "id": "5f19442b",
   "metadata": {},
   "source": [
    "You are given a stack St. You have to reverse the stack using recursion."
   ]
  },
  {
   "cell_type": "code",
   "execution_count": 4,
   "id": "89e47baf",
   "metadata": {},
   "outputs": [
    {
     "name": "stdout",
     "output_type": "stream",
     "text": [
      "Original Stack \n",
      "1 2 3 4 \n",
      "Reversed Stack \n",
      "4 3 2 1 \n"
     ]
    }
   ],
   "source": [
    "def insertAtBottom(stack, item):\n",
    "    if isEmpty(stack):\n",
    "        push(stack, item)\n",
    "    else:\n",
    "        temp = pop(stack)\n",
    "        insertAtBottom(stack, item)\n",
    "        push(stack, temp)\n",
    "\n",
    " \n",
    " \n",
    "def reverse(stack):\n",
    "    if not isEmpty(stack):\n",
    "        temp = pop(stack)\n",
    "        reverse(stack)\n",
    "        insertAtBottom(stack, temp)\n",
    " \n",
    "\n",
    " \n",
    "def createStack():\n",
    "    stack = []\n",
    "    return stack\n",
    " \n",
    "\n",
    "def isEmpty(stack):\n",
    "    return len(stack) == 0\n",
    " \n",
    "def push(stack, item):\n",
    "    stack.append(item)\n",
    "\n",
    "def pop(stack):\n",
    " \n",
    "    # If stack is empty\n",
    "    # then error\n",
    "    if(isEmpty(stack)):\n",
    "        print(\"Stack Underflow \")\n",
    "        exit(1)\n",
    " \n",
    "    return stack.pop()\n",
    " \n",
    "\n",
    "def prints(stack):\n",
    "    for i in range(len(stack)-1, -1, -1):\n",
    "        print(stack[i], end=' ')\n",
    "    print()\n",
    " \n",
    "\n",
    " \n",
    "stack = createStack()\n",
    "push(stack, str(4))\n",
    "push(stack, str(3))\n",
    "push(stack, str(2))\n",
    "push(stack, str(1))\n",
    "print(\"Original Stack \")\n",
    "prints(stack)\n",
    " \n",
    "reverse(stack)\n",
    " \n",
    "print(\"Reversed Stack \")\n",
    "prints(stack)"
   ]
  },
  {
   "cell_type": "markdown",
   "id": "50056220",
   "metadata": {},
   "source": [
    "Given n non-negative integers representing an elevation map where the width of each bar is 1, compute how much water it can trap after raining."
   ]
  },
  {
   "cell_type": "code",
   "execution_count": 5,
   "id": "937bc5cf",
   "metadata": {},
   "outputs": [],
   "source": [
    "def maxWater(arr, n):\n",
    "\n",
    "    res = 0\n",
    "    for i in range(1, n - 1):\n",
    "        left = arr[i]\n",
    "        for j in range(i):\n",
    "            left = max(left, arr[j])\n",
    "        right = arr[i]\n",
    "  \n",
    "        for j in range(i + 1, n):\n",
    "            right = max(right, arr[j])\n",
    "        res = res + (min(left, right) - arr[i])\n",
    "  \n",
    "    return res\n",
    "  \n",
    "if __name__ == \"__main__\":\n",
    "  \n",
    "    arr = [0, 1, 0, 2, 1, 0,\n",
    "           1, 3, 2, 1, 2, 1]\n",
    "    n = len(arr)"
   ]
  },
  {
   "cell_type": "code",
   "execution_count": 6,
   "id": "852c14d7",
   "metadata": {},
   "outputs": [
    {
     "name": "stdout",
     "output_type": "stream",
     "text": [
      "6\n"
     ]
    }
   ],
   "source": [
    "print(maxWater(arr, n))"
   ]
  },
  {
   "cell_type": "markdown",
   "id": "24f2c351",
   "metadata": {},
   "source": [
    "Design a stack that supports push, pop, top, and retrieving the minimum element in constant time.\n",
    "\n",
    "Implement the `MinStack` class:\n",
    "\n",
    "- `MinStack()` initializes the stack object.\n",
    "- `void push(int val)` pushes the element `val` onto the stack.\n",
    "- `void pop()` removes the element on the top of the stack.\n",
    "- `int top()` gets the top element of the stack.\n",
    "- `int getMin()` retrieves the minimum element in the stack.\n",
    "\n",
    "You must implement a solution with `O(1)` time complexity for each function."
   ]
  },
  {
   "cell_type": "code",
   "execution_count": null,
   "id": "b2644eef",
   "metadata": {},
   "outputs": [],
   "source": []
  }
 ],
 "metadata": {
  "kernelspec": {
   "display_name": "Python 3 (ipykernel)",
   "language": "python",
   "name": "python3"
  },
  "language_info": {
   "codemirror_mode": {
    "name": "ipython",
    "version": 3
   },
   "file_extension": ".py",
   "mimetype": "text/x-python",
   "name": "python",
   "nbconvert_exporter": "python",
   "pygments_lexer": "ipython3",
   "version": "3.9.12"
  }
 },
 "nbformat": 4,
 "nbformat_minor": 5
}

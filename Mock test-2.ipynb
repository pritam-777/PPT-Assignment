{
 "cells": [
  {
   "cell_type": "markdown",
   "id": "d7b8205e",
   "metadata": {},
   "source": [
    "1. Given a non-negative integer x, return the square root of x rounded down to the nearest integer. The returned integer should be non-negative as well. You must not use any built-in exponent function or operator. "
   ]
  },
  {
   "cell_type": "code",
   "execution_count": 4,
   "id": "da15fd9d",
   "metadata": {},
   "outputs": [],
   "source": [
    "  def mySqrt(x: int) -> int:\n",
    "            if x < 2:\n",
    "                return x\n",
    "            start = 0\n",
    "            end = x/2\n",
    "            while (start <= end):\n",
    "                mid = int((start + end) / 2)\n",
    "                square = mid * mid\n",
    "                if square == x:\n",
    "                    return mid    \n",
    "                if square > x:\n",
    "                    end = mid - 1   \n",
    "                else:\n",
    "                    start = mid + 1\n",
    "                \n",
    "            return end"
   ]
  },
  {
   "cell_type": "code",
   "execution_count": 5,
   "id": "cb56c1f6",
   "metadata": {},
   "outputs": [
    {
     "name": "stdout",
     "output_type": "stream",
     "text": [
      "2\n"
     ]
    }
   ],
   "source": [
    "print(mySqrt(4))"
   ]
  },
  {
   "cell_type": "markdown",
   "id": "0b5f6d4a",
   "metadata": {},
   "source": [
    "2. You are given two non-empty linked lists representing two non-negative integers. The digits are stored in reverse order, and each of their nodes contains a single digit. Add the two numbers and return the sum as a linked list.\n",
    "\n",
    "You may assume the two numbers do not contain any leading zero, except the number 0 itself."
   ]
  },
  {
   "cell_type": "code",
   "execution_count": null,
   "id": "5470cdcc",
   "metadata": {},
   "outputs": [],
   "source": [
    "def addTwoNumbers(l1: ListNode, l2: ListNode) -> ListNode:\n",
    "    head = None\n",
    "    temp = None\n",
    "    carry = 0\n",
    "    while l1 is not None or l2 is not None:\n",
    "        sum_value = carry\n",
    "        if l1 is not None:\n",
    "            sum_value += l1.val\n",
    "            l1 = l1.next\n",
    "        if l2 is not None:\n",
    "            sum_value += l2.val\n",
    "            l2 = l2.next\n",
    "        node = ListNode(sum_value % 10)\n",
    "        carry = sum_value // 10\n",
    "        if temp is None:\n",
    "            temp = head = node\n",
    "        else:\n",
    "            temp.next = node\n",
    "            temp = temp.next\n",
    "    if carry > 0:\n",
    "        temp.next = ListNode(carry)\n",
    "    return head"
   ]
  }
 ],
 "metadata": {
  "kernelspec": {
   "display_name": "Python 3 (ipykernel)",
   "language": "python",
   "name": "python3"
  },
  "language_info": {
   "codemirror_mode": {
    "name": "ipython",
    "version": 3
   },
   "file_extension": ".py",
   "mimetype": "text/x-python",
   "name": "python",
   "nbconvert_exporter": "python",
   "pygments_lexer": "ipython3",
   "version": "3.9.12"
  }
 },
 "nbformat": 4,
 "nbformat_minor": 5
}

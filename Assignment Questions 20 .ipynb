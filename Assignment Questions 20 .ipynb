{
 "cells": [
  {
   "cell_type": "markdown",
   "id": "dd8fc62d",
   "metadata": {},
   "source": [
    "1. Given a binary tree, your task is to find subtree with maximum sum in tree."
   ]
  },
  {
   "cell_type": "code",
   "execution_count": 3,
   "id": "0af6378b",
   "metadata": {},
   "outputs": [
    {
     "name": "stdout",
     "output_type": "stream",
     "text": [
      "48\n"
     ]
    }
   ],
   "source": [
    "class Node:\n",
    "    def __init__(self, data):\n",
    "        self.data = data \n",
    "        self.left = None \n",
    "        self.right = None \n",
    " \n",
    "\n",
    "ans = float(\"-infinity\")\n",
    "def findLargestSubtreeSum(root):\n",
    "    if root is None:\n",
    "        return 0\n",
    "    if root.left is None and root.right is None:\n",
    "        return root.data\n",
    "       \n",
    "   \n",
    "    sumleft = findLargestSubtreeSum(root.left)\n",
    "    sumright = findLargestSubtreeSum(root.right)\n",
    "    sumrootnode = sumleft + sumright + root.data\n",
    "     \n",
    "   \n",
    "    tempmax = max(sumleft, sumright)\n",
    "    tempmax = max(tempmax, sumrootnode)\n",
    "     \n",
    " \n",
    "    global ans\n",
    "    ans = max(ans, tempmax)\n",
    "    return sumrootnode\n",
    " \n",
    "\n",
    "if __name__ == '__main__':\n",
    "    root = Node(1)\n",
    "    root.left = Node(-18)\n",
    "    root.right = Node(12)\n",
    "    root.left.left = Node(14)\n",
    "    root.left.right = Node(25)\n",
    "    root.right.left = Node(-6)\n",
    "    root.right.right = Node(20)\n",
    "    findLargestSubtreeSum(root)\n",
    "    print(ans)"
   ]
  },
  {
   "cell_type": "markdown",
   "id": "fbc95e83",
   "metadata": {},
   "source": [
    "2. Construct the BST (Binary Search Tree) from its given level order traversal."
   ]
  },
  {
   "cell_type": "code",
   "execution_count": 4,
   "id": "b861e132",
   "metadata": {},
   "outputs": [
    {
     "name": "stdout",
     "output_type": "stream",
     "text": [
      "Inorder Traversal: 1 3 4 5 6 7 8 10 12 "
     ]
    }
   ],
   "source": [
    "import math\n",
    "\n",
    " \n",
    "class Node:\n",
    "    def __init__(self, data):\n",
    "        self.data = data\n",
    "        self.left = None\n",
    "        self.right = None\n",
    "\n",
    "def getNode(data):\n",
    " \n",
    "\n",
    "    newNode = Node(data)\n",
    "    newNode.data = data\n",
    "    newNode.left = None\n",
    "    newNode.right = None\n",
    "    return newNode\n",
    " \n",
    " \n",
    "def LevelOrder(root, data):\n",
    "    if(root == None):\n",
    "        root = getNode(data)\n",
    "        return root\n",
    " \n",
    "    if(data <= root.data):\n",
    "        root.left = LevelOrder(root.left, data)\n",
    "    else:\n",
    "        root.right = LevelOrder(root.right, data)\n",
    "    return root\n",
    " \n",
    " \n",
    "def constructBst(arr, n):\n",
    "    if(n == 0):\n",
    "        return None\n",
    "    root = None\n",
    " \n",
    "    for i in range(0, n):\n",
    "        root = LevelOrder(root, arr[i])\n",
    " \n",
    "    return root\n",
    " \n",
    " \n",
    "\n",
    "def inorderTraversal(root):\n",
    "    if (root == None):\n",
    "        return None\n",
    " \n",
    "    inorderTraversal(root.left)\n",
    "    print(root.data, end=\" \")\n",
    "    inorderTraversal(root.right)\n",
    " \n",
    " \n",
    "\n",
    "if __name__ == '__main__':\n",
    " \n",
    "    arr = [7, 4, 12, 3, 6, 8, 1, 5, 10]\n",
    "    n = len(arr)\n",
    " \n",
    "    root = constructBst(arr, n)\n",
    " \n",
    "    print(\"Inorder Traversal: \", end=\"\")\n",
    "    root = inorderTraversal(root)"
   ]
  },
  {
   "cell_type": "markdown",
   "id": "ffe55db2",
   "metadata": {},
   "source": [
    "3. Given an array of size n. The problem is to check whether the given array can represent the level order traversal of a Binary Search Tree or not."
   ]
  },
  {
   "cell_type": "code",
   "execution_count": 5,
   "id": "bc73820b",
   "metadata": {},
   "outputs": [
    {
     "name": "stdout",
     "output_type": "stream",
     "text": [
      "Yes\n"
     ]
    }
   ],
   "source": [
    "INT_MIN, INT_MAX = float('-inf'), float('inf')\n",
    "class NodeDetails:\n",
    " \n",
    "    def __init__(self, data, min, max):\n",
    "        self.data = data\n",
    "        self.min = min\n",
    "        self.max = max\n",
    "\n",
    "def levelOrderIsOfBST(arr, n):\n",
    "\n",
    "    if n == 0:\n",
    "        return True\n",
    "    q = []\n",
    "    i = 0\n",
    "\n",
    "    newNode = NodeDetails(arr[i], INT_MIN, INT_MAX)\n",
    "    i += 1\n",
    "    q.append(newNode)\n",
    "\n",
    "    while i != n and len(q) != 0:    \n",
    "\n",
    "        temp = q.pop(0)\n",
    "        if i < n and (arr[i] < temp.data and\n",
    "                    arr[i] > temp.min):\n",
    " \n",
    "            newNode = NodeDetails(arr[i], temp.min, temp.data)\n",
    "            i += 1\n",
    "            q.append(newNode)            \n",
    "\n",
    "        if i < n and (arr[i] > temp.data and\n",
    "                    arr[i] < temp.max):\n",
    "\n",
    "            newNode = NodeDetails(arr[i], temp.data, temp.max)\n",
    "            i += 1\n",
    "            q.append(newNode)        \n",
    "\n",
    "    if i == n:\n",
    "        return True\n",
    "\n",
    "    return False       \n",
    " \n",
    "\n",
    "if __name__ == \"__main__\":\n",
    " \n",
    "    arr = [7, 4, 12, 3, 6, 8, 1, 5, 10]\n",
    "    n = len(arr)    \n",
    "    if levelOrderIsOfBST(arr, n):\n",
    "        print(\"Yes\")\n",
    "    else:\n",
    "        print(\"No\")"
   ]
  },
  {
   "cell_type": "code",
   "execution_count": null,
   "id": "6212b42a",
   "metadata": {},
   "outputs": [],
   "source": []
  }
 ],
 "metadata": {
  "kernelspec": {
   "display_name": "Python 3 (ipykernel)",
   "language": "python",
   "name": "python3"
  },
  "language_info": {
   "codemirror_mode": {
    "name": "ipython",
    "version": 3
   },
   "file_extension": ".py",
   "mimetype": "text/x-python",
   "name": "python",
   "nbconvert_exporter": "python",
   "pygments_lexer": "ipython3",
   "version": "3.9.12"
  }
 },
 "nbformat": 4,
 "nbformat_minor": 5
}

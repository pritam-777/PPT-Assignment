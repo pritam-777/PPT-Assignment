{
 "cells": [
  {
   "cell_type": "markdown",
   "id": "93bf390a",
   "metadata": {},
   "source": [
    "\n",
    "1. Write a Python program to reverse a string without using any built-in string reversal functions.\n"
   ]
  },
  {
   "cell_type": "code",
   "execution_count": 1,
   "id": "c649b27f",
   "metadata": {},
   "outputs": [],
   "source": [
    "def reverse_string(st):\n",
    "    str = \"\"\n",
    "    for i in st:\n",
    "        str = i + str\n",
    "    return str"
   ]
  },
  {
   "cell_type": "code",
   "execution_count": 2,
   "id": "9d25bdfe",
   "metadata": {},
   "outputs": [],
   "source": [
    "st=\"ABCD\"\n",
    "print(reverse_string(st))"
   ]
  },
  {
   "cell_type": "markdown",
   "id": "a02807cb",
   "metadata": {},
   "source": [
    "2. Implement a function to check if a given string is a palindrome."
   ]
  },
  {
   "cell_type": "code",
   "execution_count": 3,
   "id": "f10ef18f",
   "metadata": {},
   "outputs": [],
   "source": [
    "def isPalindrome(str):\n",
    "    for i in range(0,int(len(str)/2)):\n",
    "        if str[i]!=str[len(str)-i-1]:\n",
    "            return False\n",
    "    return True\n",
    "        "
   ]
  },
  {
   "cell_type": "code",
   "execution_count": 4,
   "id": "727702cb",
   "metadata": {},
   "outputs": [],
   "source": [
    "st=\"ABA\"\n",
    "ans=isPalindrome(st)\n",
    "\n",
    "if (ans):\n",
    "    print(\"Yes\")\n",
    "else:\n",
    "    print(\"No\")"
   ]
  },
  {
   "cell_type": "markdown",
   "id": "0b6a2166",
   "metadata": {},
   "source": [
    "3. Write a program to find the largest element in a given list."
   ]
  },
  {
   "cell_type": "code",
   "execution_count": 5,
   "id": "731750d9",
   "metadata": {},
   "outputs": [],
   "source": [
    "def largest_number(st):\n",
    "    largest=st[0]\n",
    "    for i in range(len(st)):\n",
    "        if largest<st[i]:\n",
    "            largest=st[i]\n",
    "    return largest\n"
   ]
  },
  {
   "cell_type": "code",
   "execution_count": 6,
   "id": "eeef0141",
   "metadata": {},
   "outputs": [],
   "source": [
    "st=[6,7,20,13,18,12,3]\n",
    "print(largest_number(st))"
   ]
  },
  {
   "cell_type": "markdown",
   "id": "a1a474f3",
   "metadata": {},
   "source": [
    "4. Implement a function to count the occurrence of each element in a list."
   ]
  },
  {
   "cell_type": "code",
   "execution_count": 7,
   "id": "2f10ed6f",
   "metadata": {},
   "outputs": [],
   "source": [
    "def countOccurrence(st):\n",
    "    dic={}\n",
    "    for i in st:\n",
    "        if i in dic:\n",
    "            dic[i]+=1\n",
    "        else:\n",
    "            dic[i]=1\n",
    "    return dic\n",
    "        "
   ]
  },
  {
   "cell_type": "code",
   "execution_count": 8,
   "id": "19e4b3d7",
   "metadata": {},
   "outputs": [],
   "source": [
    "st=[\"pr\",\"prr\",\"pr\",\"prx\",\"prr\",\"prx\",\"prx\"]\n",
    "print(countOccurrence(st))"
   ]
  },
  {
   "cell_type": "markdown",
   "id": "161bbb75",
   "metadata": {},
   "source": [
    "5. Write a Python program to find the second largest number in a list."
   ]
  },
  {
   "cell_type": "code",
   "execution_count": 9,
   "id": "645ac95e",
   "metadata": {},
   "outputs": [],
   "source": [
    "def second_largest_number(st):\n",
    "    first_largest=min(st)\n",
    "    second_largest=0\n",
    "    for i in range(len(st)):\n",
    "        if first_largest<st[i]:\n",
    "            second_largest=first_largest\n",
    "            first_largest=st[i]\n",
    "        else:\n",
    "            second_largest=max(second_largest,st[i])\n",
    "    return second_largest\n",
    "            "
   ]
  },
  {
   "cell_type": "code",
   "execution_count": 10,
   "id": "b180d03e",
   "metadata": {},
   "outputs": [],
   "source": [
    "st=[6,7,20,13,18,12,3]\n",
    "print(second_largest_number(st))"
   ]
  },
  {
   "cell_type": "markdown",
   "id": "af1513be",
   "metadata": {},
   "source": [
    "6. Implement a function to remove duplicate elements from a list."
   ]
  },
  {
   "cell_type": "code",
   "execution_count": 11,
   "id": "6550d31a",
   "metadata": {},
   "outputs": [],
   "source": [
    "def remove_dublicate_element_list(st):\n",
    "    res=[]\n",
    "    for i in st:\n",
    "        if i not in res:\n",
    "            res.append(i)\n",
    "    return res\n"
   ]
  },
  {
   "cell_type": "code",
   "execution_count": 12,
   "id": "4b8a851a",
   "metadata": {},
   "outputs": [],
   "source": [
    "st=[3,3,4,5,5,7,8,8]\n",
    "print(remove_dublicate_element_list(st))"
   ]
  },
  {
   "cell_type": "markdown",
   "id": "b70d59e9",
   "metadata": {},
   "source": [
    "7. Write a program to calculate the factorial of a given number."
   ]
  },
  {
   "cell_type": "code",
   "execution_count": 13,
   "id": "824db0fd",
   "metadata": {},
   "outputs": [],
   "source": [
    "def factorial(n):      \n",
    "    if n == 0:\n",
    "        return 1\n",
    "      \n",
    "    return n * factorial(n-1)"
   ]
  },
  {
   "cell_type": "code",
   "execution_count": 14,
   "id": "f3f87885",
   "metadata": {},
   "outputs": [],
   "source": [
    "num = 5\n",
    "print(\"Factorial of\", num, \"is\",\n",
    "factorial(num))"
   ]
  },
  {
   "cell_type": "markdown",
   "id": "afedba6a",
   "metadata": {},
   "source": [
    "8. Implement a function to check if a given number is prime"
   ]
  },
  {
   "cell_type": "code",
   "execution_count": 15,
   "id": "8ebbe99f",
   "metadata": {},
   "outputs": [],
   "source": [
    "def prime(num):\n",
    "    if num > 1:\n",
    "        for i in range(2, int(num/2)+1):\n",
    "            if (num % i) == 0:\n",
    "                print(num, \"is not a prime number\")\n",
    "                break\n",
    "        else:\n",
    "            print(num, \"is a prime number\")\n",
    "    else:\n",
    "        print(num, \"is not a prime number\")"
   ]
  },
  {
   "cell_type": "code",
   "execution_count": 16,
   "id": "885118da",
   "metadata": {},
   "outputs": [],
   "source": [
    "prime(5)"
   ]
  },
  {
   "cell_type": "markdown",
   "id": "e604050e",
   "metadata": {},
   "source": [
    "9. Write a Python program to sort a list of integers in ascending order."
   ]
  },
  {
   "cell_type": "code",
   "execution_count": 17,
   "id": "a760bafc",
   "metadata": {},
   "outputs": [],
   "source": [
    "def bubbleSort(nlist):\n",
    "    for passnum in range(len(nlist)-1,0,-1):\n",
    "        for i in range(passnum):\n",
    "            if nlist[i]>nlist[i+1]:\n",
    "                temp = nlist[i]\n",
    "                nlist[i] = nlist[i+1]\n",
    "                nlist[i+1] = temp"
   ]
  },
  {
   "cell_type": "code",
   "execution_count": 18,
   "id": "01955069",
   "metadata": {},
   "outputs": [],
   "source": [
    "nlist = [14,46,43,27,57,41,45,21,70]\n",
    "bubbleSort(nlist)\n",
    "print(nlist)"
   ]
  },
  {
   "cell_type": "markdown",
   "id": "23472f91",
   "metadata": {},
   "source": [
    "11. Write a program to find the common elements between two lists"
   ]
  },
  {
   "cell_type": "code",
   "execution_count": 19,
   "id": "cb54abd7",
   "metadata": {},
   "outputs": [],
   "source": [
    "def common_element(ls1,ls2):\n",
    "    res=[]\n",
    "    for i in ls1:\n",
    "        if i in ls2:\n",
    "            res.append(i)\n",
    "    return res\n",
    "            "
   ]
  },
  {
   "cell_type": "code",
   "execution_count": 20,
   "id": "49ea536c",
   "metadata": {},
   "outputs": [],
   "source": [
    "ls1=[1,2,3,4]\n",
    "ls2=[2,4,6,7]\n",
    "print(common_element(ls1,ls2))"
   ]
  },
  {
   "cell_type": "markdown",
   "id": "2f37ae02",
   "metadata": {},
   "source": [
    "12.  Implement a function to check if a given string is an anagram of another string."
   ]
  },
  {
   "cell_type": "code",
   "execution_count": 21,
   "id": "64c8d8b8",
   "metadata": {},
   "outputs": [],
   "source": [
    "NO_OF_CHARS = 256\n",
    "def areAnagram(str1, str2): \n",
    "    count1 = [0] * NO_OF_CHARS\n",
    "    count2 = [0] * NO_OF_CHARS\n",
    "    for i in str1:\n",
    "        count1[ord(i)] += 1\n",
    " \n",
    "    for i in str2:\n",
    "        count2[ord(i)] += 1\n",
    " \n",
    "    if len(str1) != len(str2):\n",
    "        return 0\n",
    " \n",
    "    for i in range(NO_OF_CHARS):\n",
    "        if count1[i] != count2[i]:\n",
    "            return 0\n",
    " \n",
    "    return 1"
   ]
  },
  {
   "cell_type": "code",
   "execution_count": 22,
   "id": "302937db",
   "metadata": {},
   "outputs": [],
   "source": [
    "str1 = \"gram\"\n",
    "str2 = \"arm\"\n",
    " \n",
    "\n",
    "if areAnagram(str1, str2):\n",
    "    print (\"The two strings are anagram of each other\")\n",
    "else:\n",
    "    print (\"The two strings are not anagram of each other\")"
   ]
  },
  {
   "cell_type": "markdown",
   "id": "40dc4c94",
   "metadata": {},
   "source": [
    "13. Write a Python program to generate all permutations of a given string."
   ]
  },
  {
   "cell_type": "code",
   "execution_count": 23,
   "id": "15e046bc",
   "metadata": {},
   "outputs": [],
   "source": [
    "def toString(List):\n",
    "    return ''.join(List)\n",
    "\n",
    "def permute(a, l, r):\n",
    "    if l == r:\n",
    "        print (toString(a))\n",
    "    else:\n",
    "        for i in range(l, r + 1):\n",
    "            a[l], a[i] = a[i], a[l]\n",
    "            permute(a, l + 1, r)\n",
    "\n",
    "            a[l], a[i] = a[i], a[l]\n",
    " \n",
    "\n",
    "string = \"ABC\"\n",
    "n = len(string)\n",
    "a = list(string)\n",
    "permute(a, 0, n-1)"
   ]
  },
  {
   "cell_type": "markdown",
   "id": "499808ac",
   "metadata": {},
   "source": [
    "15. Write a program to find the median of a list of numbers."
   ]
  },
  {
   "cell_type": "code",
   "execution_count": 24,
   "id": "05608297",
   "metadata": {},
   "outputs": [],
   "source": [
    "def median(ls):\n",
    "    ls.sort()\n",
    "    n=len(ls)\n",
    "    if (n%2==0):\n",
    "        median = (ls[n//2 - 1] + ls[n//2]) / 2\n",
    "    else:\n",
    "        median = ls[n//2]\n",
    "    return median\n",
    "        "
   ]
  },
  {
   "cell_type": "code",
   "execution_count": 25,
   "id": "3d5207c4",
   "metadata": {},
   "outputs": [],
   "source": [
    "ls=[2,3,4,5,6,7,8,6,7,8,9,11,12,3,45,17]\n",
    "print(median(ls))"
   ]
  },
  {
   "cell_type": "markdown",
   "id": "1a3b044c",
   "metadata": {},
   "source": [
    "17. Write a Python program to find the intersection of two lists."
   ]
  },
  {
   "cell_type": "code",
   "execution_count": 26,
   "id": "049e1509",
   "metadata": {},
   "outputs": [],
   "source": [
    "def intersection(ls1,ls2):\n",
    "    res=[]\n",
    "    for i in ls1:\n",
    "        if i in ls2:\n",
    "            res.append(i)\n",
    "    return res"
   ]
  },
  {
   "cell_type": "code",
   "execution_count": 27,
   "id": "880aa237",
   "metadata": {},
   "outputs": [],
   "source": [
    "lst1 = [4, 9, 1, 17, 11, 26, 28, 54, 69]\n",
    "lst2 = [9, 9, 74, 21, 45, 11, 63, 28, 26]\n",
    "print(intersection(lst1, lst2))"
   ]
  },
  {
   "cell_type": "markdown",
   "id": "ada2008a",
   "metadata": {},
   "source": [
    "18.  Implement a function to find the maximum subarray sum in a given list."
   ]
  },
  {
   "cell_type": "code",
   "execution_count": 28,
   "id": "32f37aff",
   "metadata": {},
   "outputs": [],
   "source": [
    "from math import inf\n",
    "maxint=inf\n",
    "def maxSubArraySum(a,size):\n",
    "      \n",
    "    max_so_far = -maxint - 1\n",
    "    max_ending_here = 0\n",
    "      \n",
    "    for i in range(0, size):\n",
    "        max_ending_here = max_ending_here + a[i]\n",
    "        if (max_so_far < max_ending_here):\n",
    "            max_so_far = max_ending_here\n",
    " \n",
    "        if max_ending_here < 0:\n",
    "            max_ending_here = 0  \n",
    "    return max_so_far"
   ]
  },
  {
   "cell_type": "code",
   "execution_count": 29,
   "id": "20355373",
   "metadata": {},
   "outputs": [],
   "source": [
    "a = [-13, -3, -25, -20, -3, -16, -23, -12, -5, -22, -15, -4, -7]\n",
    "print (\"Maximum contiguous sum is\", maxSubArraySum(a,len(a)))"
   ]
  },
  {
   "cell_type": "markdown",
   "id": "573a011b",
   "metadata": {},
   "source": [
    "19. Write a program to remove all vowels from a given string."
   ]
  },
  {
   "cell_type": "code",
   "execution_count": 30,
   "id": "15b49b6a",
   "metadata": {},
   "outputs": [],
   "source": [
    "def rem_vowel(string):\n",
    "    vowels = ['a','e','i','o','u']\n",
    "    result=\"\"\n",
    "    for i in string:\n",
    "        if i.lower() not in vowels:\n",
    "            result+=i\n",
    "            result = ''.join(result)\n",
    "    return result\n",
    "            "
   ]
  },
  {
   "cell_type": "code",
   "execution_count": 31,
   "id": "356e02be",
   "metadata": {},
   "outputs": [],
   "source": [
    "string = \"Loving Python LOL\"\n",
    "rem_vowel(string)"
   ]
  },
  {
   "cell_type": "markdown",
   "id": "58dfcf57",
   "metadata": {},
   "source": [
    "20. Implement a function to reverse the order of words in a given sentence."
   ]
  },
  {
   "cell_type": "code",
   "execution_count": 32,
   "id": "dcd91f54",
   "metadata": {},
   "outputs": [],
   "source": [
    "def reverseWords(s):\n",
    "        res = \"\"    \n",
    "        word = \"\"  \n",
    "        for ch in s:\n",
    "            if (ch!=' '):\n",
    "                word+=ch\n",
    "            if (ch==' '):\n",
    "                if (len(word)!=0):\n",
    "                    if (res!=\"\"):  \n",
    "                        res = ' ' + res\n",
    "                    res = word + res\n",
    "                    word = \"\"\n",
    "               \n",
    "        if (len(word)!=0): \n",
    "            if (res!=\"\"):\n",
    "                res = ' ' + res\n",
    "            res = word + res\n",
    "            \n",
    "        return res"
   ]
  },
  {
   "cell_type": "code",
   "execution_count": 33,
   "id": "ef5980c7",
   "metadata": {},
   "outputs": [],
   "source": [
    "s = \"the sky is blue\"\n",
    "print(reverseWords(s))"
   ]
  },
  {
   "cell_type": "markdown",
   "id": "47d01ccb",
   "metadata": {},
   "source": [
    "22. Implement a function to find the first non-repeating character in a string."
   ]
  },
  {
   "cell_type": "code",
   "execution_count": 34,
   "id": "8881e7a0",
   "metadata": {},
   "outputs": [],
   "source": [
    "NO_OF_CHARS = 256\n",
    " \n",
    "def getCharCountArray(string):\n",
    "    count = [0] * NO_OF_CHARS\n",
    "    for i in string:\n",
    "        count[ord(i)] += 1\n",
    "    return count\n",
    "def firstNonRepeating(string):\n",
    "    count = getCharCountArray(string)\n",
    "    index = -1\n",
    "    k = 0\n",
    " \n",
    "    for i in string:\n",
    "        if count[ord(i)] == 1:\n",
    "            index = k\n",
    "            break\n",
    "        k += 1\n",
    " \n",
    "    return index\n",
    "\n"
   ]
  },
  {
   "cell_type": "code",
   "execution_count": 35,
   "id": "474104b6",
   "metadata": {},
   "outputs": [],
   "source": [
    "string = \"Hello Programming World\"\n",
    "index = firstNonRepeating(string)\n",
    "print(string[index])"
   ]
  },
  {
   "cell_type": "markdown",
   "id": "c04a2076",
   "metadata": {},
   "source": [
    "23. Write a program to find the prime factors of a given number."
   ]
  },
  {
   "cell_type": "code",
   "execution_count": 36,
   "id": "4ccca9ef",
   "metadata": {},
   "outputs": [],
   "source": [
    "import math\n",
    "def primeFactors(n):\n",
    "    while n % 2 == 0:\n",
    "        print (2)\n",
    "        n = n / 2\n",
    "    for i in range(3,int(math.sqrt(n))+1,2):\n",
    "        while n % i== 0:\n",
    "            print (i)\n",
    "            n = n / i\n",
    "    if n > 2:\n",
    "        print (n)"
   ]
  },
  {
   "cell_type": "code",
   "execution_count": 37,
   "id": "5c5d4946",
   "metadata": {},
   "outputs": [],
   "source": [
    "n = 315\n",
    "primeFactors(n)"
   ]
  },
  {
   "cell_type": "markdown",
   "id": "d85c8d80",
   "metadata": {},
   "source": [
    "24. Implement a function to check if a given number is a power of two."
   ]
  },
  {
   "cell_type": "code",
   "execution_count": 38,
   "id": "8f669ec7",
   "metadata": {},
   "outputs": [],
   "source": [
    "def isPowerOfTwo(n):\n",
    "    if (n == 0):\n",
    "        return False\n",
    "    while (n != 1):\n",
    "        if (n % 2 != 0):\n",
    "            return False\n",
    "        n = n // 2\n",
    " \n",
    "    return True"
   ]
  },
  {
   "cell_type": "code",
   "execution_count": 39,
   "id": "46b2556c",
   "metadata": {},
   "outputs": [],
   "source": [
    "    if(isPowerOfTwo(64)):\n",
    "        print('Yes')\n",
    "    else:\n",
    "        print('No')"
   ]
  },
  {
   "cell_type": "markdown",
   "id": "c5ca1be1",
   "metadata": {},
   "source": [
    "25. Write a Python program to merge two sorted lists into a single sorted list."
   ]
  },
  {
   "cell_type": "code",
   "execution_count": 40,
   "id": "6ced51f1",
   "metadata": {},
   "outputs": [],
   "source": [
    "def merge(list1,list2):\n",
    "    size_1 = len(list1)\n",
    "    size_2 = len(list2)\n",
    "    res = []\n",
    "    i, j = 0, 0\n",
    "    while i < size_1 and j < size_2:\n",
    "        if list1[i] < list2[j]:\n",
    "            res.append(list1[i])\n",
    "            i += 1\n",
    " \n",
    "        else:\n",
    "            res.append(list2[j])\n",
    "            j += 1\n",
    "    res = res + list1[i:] + list2[j:]\n",
    "    \n",
    "    return res\n"
   ]
  },
  {
   "cell_type": "code",
   "execution_count": 41,
   "id": "8f0e3ed2",
   "metadata": {},
   "outputs": [],
   "source": [
    "list1 = [1, 5, 6, 9, 11]\n",
    "list2 = [3, 4, 7, 8, 10]\n",
    "print(merge(list1,list2))"
   ]
  },
  {
   "cell_type": "markdown",
   "id": "5375276e",
   "metadata": {},
   "source": [
    "26. Implement a function to find the mode of a list of numbers."
   ]
  },
  {
   "cell_type": "code",
   "execution_count": 42,
   "id": "00236e1f",
   "metadata": {},
   "outputs": [],
   "source": [
    "def findMode(inList):\n",
    "    modeList = {}\n",
    "    for item in inList:\n",
    "        if item in modeList:\n",
    "            modeList[item] += 1\n",
    "        else:\n",
    "            modeList[item] = 1\n",
    "    return [key for key in modeList.keys() if modeList[key] == max(modeList.values())]\n"
   ]
  },
  {
   "cell_type": "code",
   "execution_count": 43,
   "id": "b974d366",
   "metadata": {},
   "outputs": [],
   "source": [
    "myList = [10, 20, 20, 30, 30 ,30, 40]\n",
    "print(findMode(myList))"
   ]
  },
  {
   "cell_type": "markdown",
   "id": "d14a340c",
   "metadata": {},
   "source": [
    "27. Write a program to find the greatest common divisor (GCD) of two numbers."
   ]
  },
  {
   "cell_type": "code",
   "execution_count": 44,
   "id": "95822cfb",
   "metadata": {},
   "outputs": [],
   "source": [
    "def hcf(a, b):\n",
    "    if(b == 0):\n",
    "        return a\n",
    "    else:\n",
    "        return hcf(b, a % b)"
   ]
  },
  {
   "cell_type": "code",
   "execution_count": 45,
   "id": "42eba974",
   "metadata": {},
   "outputs": [],
   "source": [
    "a = 60\n",
    "b = 48\n",
    "print(\"The gcd of 60 and 48 is : \", end=\"\")\n",
    "print(hcf(60, 48))"
   ]
  },
  {
   "cell_type": "markdown",
   "id": "7dd9fd55",
   "metadata": {},
   "source": [
    "31. Write a program to find the sum of all even numbers in a list."
   ]
  },
  {
   "cell_type": "code",
   "execution_count": 46,
   "id": "a1845369",
   "metadata": {},
   "outputs": [],
   "source": [
    "def sum_of_even_odd_digits(test_list):\n",
    "    even_sum = 0\n",
    "    odd_sum = 0\n",
    "     \n",
    "    for num in test_list:\n",
    "        while num != 0:\n",
    "            digit = num % 10\n",
    "            if digit % 2 == 0:\n",
    "                even_sum += digit\n",
    "            else:\n",
    "                odd_sum += digit\n",
    "            num //= 10\n",
    "             \n",
    "    return even_sum, odd_sum\n",
    " "
   ]
  },
  {
   "cell_type": "code",
   "execution_count": 47,
   "id": "e924e770",
   "metadata": {},
   "outputs": [],
   "source": [
    "test_list = [345, 893, 1948, 34, 2346]\n",
    "even_sum, odd_sum = sum_of_even_odd_digits(test_list)\n",
    "print(\"Odd digit sum :\", odd_sum)\n",
    "print(\"Even digit sum :\", even_sum)"
   ]
  },
  {
   "cell_type": "markdown",
   "id": "6e9dc704",
   "metadata": {},
   "source": [
    "32. Implement a function to calculate the power of a number using recursion"
   ]
  },
  {
   "cell_type": "code",
   "execution_count": 48,
   "id": "5ed2623c",
   "metadata": {},
   "outputs": [],
   "source": [
    "def power(N, P):\n",
    "    if P == 0:\n",
    "        return 1\n",
    " \n",
    "    return (N*power(N, P-1))"
   ]
  },
  {
   "cell_type": "code",
   "execution_count": 49,
   "id": "49ce8c10",
   "metadata": {},
   "outputs": [],
   "source": [
    "if __name__ == '__main__':\n",
    "    N = 5\n",
    "    P = 2\n",
    " \n",
    "    print(power(N, P))"
   ]
  },
  {
   "cell_type": "markdown",
   "id": "ad534556",
   "metadata": {},
   "source": [
    "34. Implement a function to find the longest common prefix among a list of strings."
   ]
  },
  {
   "cell_type": "code",
   "execution_count": 50,
   "id": "ff40c9d4",
   "metadata": {},
   "outputs": [],
   "source": [
    "def longestCommonPrefix( a):\n",
    "     \n",
    "    size = len(a)\n",
    "    if (size == 0):\n",
    "        return \"\"\n",
    " \n",
    "    if (size == 1):\n",
    "        return a[0]\n",
    " \n",
    "    a.sort()\n",
    "    end = min(len(a[0]), len(a[size - 1]))\n",
    "    i = 0\n",
    "    while (i < end and\n",
    "           a[0][i] == a[size - 1][i]):\n",
    "        i += 1\n",
    " \n",
    "    pre = a[0][0: i]\n",
    "    return pre"
   ]
  },
  {
   "cell_type": "code",
   "execution_count": 51,
   "id": "5ee2b198",
   "metadata": {},
   "outputs": [],
   "source": [
    "if __name__ == \"__main__\":\n",
    " \n",
    "    input = [\"aabsh\", \"aabtxrto\",\n",
    "                     \"aagthy\"]\n",
    "    print(\"The longest Common Prefix is :\" ,\n",
    "                 longestCommonPrefix(input))\n",
    " "
   ]
  },
  {
   "cell_type": "markdown",
   "id": "bf1ff062",
   "metadata": {},
   "source": [
    " 36. Implement a function to calculate the product of all elements in a list."
   ]
  },
  {
   "cell_type": "code",
   "execution_count": 52,
   "id": "c78614c5",
   "metadata": {},
   "outputs": [],
   "source": [
    "def multiplyList(lst) :\n",
    "     \n",
    "    product = 1\n",
    "    for x in lst:\n",
    "         product = product * x\n",
    "    return product\n",
    "     "
   ]
  },
  {
   "cell_type": "code",
   "execution_count": 53,
   "id": "0d5529d8",
   "metadata": {},
   "outputs": [],
   "source": [
    "list1 = [11, 3, 2]\n",
    "print(\"Product of  list: \",multiplyList(list1))"
   ]
  },
  {
   "cell_type": "markdown",
   "id": "2fa490a0",
   "metadata": {},
   "source": [
    "37. Write a Python program to reverse the order of words in a sentence while preserving the word order."
   ]
  },
  {
   "cell_type": "code",
   "execution_count": 54,
   "id": "56a7dee6",
   "metadata": {},
   "outputs": [],
   "source": [
    "def reverseWords(s):\n",
    "        res = \"\"    \n",
    "        word = \"\"  \n",
    "        for ch in s:\n",
    "            if (ch!=' '):\n",
    "                word+=ch\n",
    "            if (ch==' '):\n",
    "                if (len(word)!=0):\n",
    "                    if (res!=\"\"):  \n",
    "                        res = ' ' + res\n",
    "                    res = word + res\n",
    "                    word = \"\"\n",
    "               \n",
    "        if (len(word)!=0): \n",
    "            if (res!=\"\"):\n",
    "                res = ' ' + res\n",
    "            res = word + res\n",
    "            \n",
    "        return res"
   ]
  },
  {
   "cell_type": "code",
   "execution_count": 55,
   "id": "98a2ff27",
   "metadata": {},
   "outputs": [],
   "source": [
    "s = \"the sky is blue\"\n",
    "print(reverseWords(s))"
   ]
  },
  {
   "cell_type": "markdown",
   "id": "d2d34b32",
   "metadata": {},
   "source": [
    "38. Implement a function to find the missing number in a given list of consecutive numbers."
   ]
  },
  {
   "cell_type": "code",
   "execution_count": 56,
   "id": "f1732e7d",
   "metadata": {},
   "outputs": [],
   "source": [
    "def getMissingNo(arr, n):\n",
    "    total = (n + 1)*(n + 2)/2\n",
    "    sum_of_A = sum(arr)\n",
    "    return total - sum_of_A"
   ]
  },
  {
   "cell_type": "code",
   "execution_count": 57,
   "id": "351d3336",
   "metadata": {},
   "outputs": [],
   "source": [
    "\n",
    "if __name__ == '__main__':\n",
    "    arr = [1, 2, 3, 5]\n",
    "    N = len(arr)\n",
    "    miss = getMissingNo(arr, N)\n",
    "    print(miss)"
   ]
  },
  {
   "cell_type": "markdown",
   "id": "aabccd10",
   "metadata": {},
   "source": [
    "42. Implement a function to find the longest palindrome substring in a given string."
   ]
  },
  {
   "cell_type": "code",
   "execution_count": 58,
   "id": "ca278b21",
   "metadata": {},
   "outputs": [],
   "source": [
    "def printSubStr(str, low, high):\n",
    "    for i in range(low, high + 1):\n",
    "        print(str[i], end=\"\")\n",
    "\n",
    "def longestPalSubstr(str):\n",
    "\n",
    "    n = len(str)\n",
    "    maxLength = 1\n",
    "    start = 0\n",
    "\n",
    "    for i in range(n):\n",
    "        for j in range(i, n):\n",
    "            flag = 1\n",
    "\n",
    "            for k in range(0, ((j - i) // 2) + 1):\n",
    "                if (str[i + k] != str[j - k]):\n",
    "                    flag = 0\n",
    "\n",
    "            if (flag != 0 and (j - i + 1) > maxLength):\n",
    "                start = i\n",
    "                maxLength = j - i + 1\n",
    " \n",
    "    print(\"Longest palindrome substring is: \", end=\"\")\n",
    "    printSubStr(str, start, start + maxLength - 1)\n",
    "\n",
    "    return maxLength\n",
    " \n",
    "\n",
    "if __name__ == '__main__':\n",
    " \n",
    "    str = \"forgeeksskeegfor\"\n",
    "    print(\"\\nLength is:\", longestPalSubstr(str))"
   ]
  },
  {
   "cell_type": "markdown",
   "id": "a5f6c144",
   "metadata": {},
   "source": [
    " 44. Implement a function to check if a given number is a perfect number."
   ]
  },
  {
   "cell_type": "code",
   "execution_count": 59,
   "id": "938a52ca",
   "metadata": {},
   "outputs": [],
   "source": [
    "def perfect_number(n):\n",
    "    sum = 0\n",
    "    for x in range(1, n):\n",
    "        if n % x == 0:\n",
    "            sum += x\n",
    "    return sum == n\n"
   ]
  },
  {
   "cell_type": "code",
   "execution_count": 60,
   "id": "2ab9dc27",
   "metadata": {},
   "outputs": [],
   "source": [
    "print(perfect_number(6))"
   ]
  },
  {
   "cell_type": "markdown",
   "id": "aa401cb5",
   "metadata": {},
   "source": [
    "45.  Write a Python program to remove all duplicates from a string."
   ]
  },
  {
   "cell_type": "code",
   "execution_count": 61,
   "id": "c5b5f353",
   "metadata": {},
   "outputs": [],
   "source": [
    "string=\"priitaam\"\n",
    "p=\"\"\n",
    "for char in string:\n",
    "    if char not in p:\n",
    "        p=p+char\n",
    "print(p)\n"
   ]
  },
  {
   "cell_type": "code",
   "execution_count": null,
   "id": "cf97c19e",
   "metadata": {},
   "outputs": [],
   "source": []
  }
 ],
 "metadata": {
  "kernelspec": {
   "display_name": "Python 3 (ipykernel)",
   "language": "python",
   "name": "python3"
  },
  "language_info": {
   "codemirror_mode": {
    "name": "ipython",
    "version": 3
   },
   "file_extension": ".py",
   "mimetype": "text/x-python",
   "name": "python",
   "nbconvert_exporter": "python",
   "pygments_lexer": "ipython3",
   "version": "3.9.16"
  }
 },
 "nbformat": 4,
 "nbformat_minor": 5
}

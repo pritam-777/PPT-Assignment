{
 "cells": [
  {
   "cell_type": "markdown",
   "id": "071cab9b",
   "metadata": {},
   "source": [
    "1. Given a string s, find the first non-repeating character in it and return its index. If it does not exist, return -1."
   ]
  },
  {
   "cell_type": "code",
   "execution_count": 1,
   "id": "9d43a6d6",
   "metadata": {},
   "outputs": [
    {
     "ename": "SyntaxError",
     "evalue": "invalid syntax (1185266668.py, line 5)",
     "output_type": "error",
     "traceback": [
      "\u001b[1;36m  Input \u001b[1;32mIn [1]\u001b[1;36m\u001b[0m\n\u001b[1;33m    if  not in myset:\u001b[0m\n\u001b[1;37m            ^\u001b[0m\n\u001b[1;31mSyntaxError\u001b[0m\u001b[1;31m:\u001b[0m invalid syntax\n"
     ]
    }
   ],
   "source": [
    "def firstNotRepeatingCharacter(s):\n",
    "    myset = set()\n",
    "    for letter in s:\n",
    "        myset.add(letter)\n",
    "        if  not in myset:\n",
    "            return letter\n",
    "        return '_'"
   ]
  },
  {
   "cell_type": "markdown",
   "id": "7614e932",
   "metadata": {},
   "source": [
    "2. Given a **circular integer array** `nums` of length `n`, return *the maximum possible sum of a non-empty **subarray** of* `nums`.\n",
    "\n",
    "A **circular array** means the end of the array connects to the beginning of the array. Formally, the next element of `nums[i]` is `nums[(i + 1) % n]` and the previous element of `nums[i]` is `nums[(i - 1 + n) % n]`.\n",
    "\n",
    "A **subarray** may only include each element of the fixed buffer `nums` at most once. Formally, for a subarray `nums[i], nums[i + 1], ..., nums[j]`, there does not exist `i <= k1`, `k2 <= j` with `k1 % n == k2 % n`."
   ]
  },
  {
   "cell_type": "code",
   "execution_count": null,
   "id": "9f73c9c6",
   "metadata": {},
   "outputs": [],
   "source": []
  },
  {
   "cell_type": "markdown",
   "id": "1ae4bdb6",
   "metadata": {},
   "source": [
    "3. The school cafeteria offers circular and square sandwiches at lunch break, referred to by numbers `0` and `1` respectively. All students stand in a queue. Each student either prefers square or circular sandwiches.\n",
    "\n",
    "The number of sandwiches in the cafeteria is equal to the number of students. The sandwiches are placed in a **stack**. At each step:\n",
    "\n",
    "- If the student at the front of the queue **prefers** the sandwich on the top of the stack, they will **take it** and leave the queue.\n",
    "- Otherwise, they will **leave it** and go to the queue's end.\n",
    "\n",
    "This continues until none of the queue students want to take the top sandwich and are thus unable to eat.\n",
    "\n",
    "You are given two integer arrays `students` and `sandwiches` where `sandwiches[i]` is the type of the `ith` sandwich in the stack (`i = 0` is the top of the stack) and `students[j]` is the preference of the `jth` student in the initial queue (`j = 0` is the front of the queue). Return *the number of students that are unable to eat.*"
   ]
  },
  {
   "cell_type": "code",
   "execution_count": 2,
   "id": "3af99a2a",
   "metadata": {},
   "outputs": [],
   "source": [
    "import collections\n",
    "\n",
    "\n",
    "class Solution(object):\n",
    "    def countStudents(self, students, sandwiches):\n",
    "  \n",
    "        count = collections.Counter(students)\n",
    "        for i, s in enumerate(sandwiches):\n",
    "            if not count[s]:\n",
    "                break\n",
    "            count[s] -= 1\n",
    "        else:\n",
    "            i = len(sandwiches)\n",
    "        return len(sandwiches)-i"
   ]
  },
  {
   "cell_type": "markdown",
   "id": "32e78447",
   "metadata": {},
   "source": [
    "4. You have a `RecentCounter` class which counts the number of recent requests within a certain time frame.\n",
    "\n",
    "Implement the `RecentCounter` class:\n",
    "\n",
    "- `RecentCounter()` Initializes the counter with zero recent requests.\n",
    "- `int ping(int t)` Adds a new request at time `t`, where `t` represents some time in milliseconds, and returns the number of requests that has happened in the past `3000` milliseconds (including the new request). Specifically, return the number of requests that have happened in the inclusive range `[t - 3000, t]`.\n",
    "\n",
    "It is **guaranteed** that every call to `ping` uses a strictly larger value of `t` than the previous call."
   ]
  },
  {
   "cell_type": "code",
   "execution_count": 3,
   "id": "018cdd12",
   "metadata": {},
   "outputs": [],
   "source": [
    "import collections\n",
    "\n",
    "\n",
    "class RecentCounter(object):\n",
    "\n",
    "    def __init__(self):\n",
    "        self.__q = collections.deque()\n",
    "\n",
    "    def ping(self, t):\n",
    "        self.__q.append(t)\n",
    "        while self.__q[0] < t-3000:\n",
    "            self.__q.popleft()\n",
    "        return len(self.__q)"
   ]
  },
  {
   "cell_type": "markdown",
   "id": "33a9234d",
   "metadata": {},
   "source": [
    "5. There are `n` friends that are playing a game. The friends are sitting in a circle and are numbered from `1` to `n` in **clockwise order**. More formally, moving clockwise from the `ith` friend brings you to the `(i+1)th` friend for `1 <= i < n`, and moving clockwise from the `nth` friend brings you to the `1st` friend.\n",
    "\n",
    "The rules of the game are as follows:\n",
    "\n",
    "1. **Start** at the `1st` friend.\n",
    "2. Count the next `k` friends in the clockwise direction **including** the friend you started at. The counting wraps around the circle and may count some friends more than once.\n",
    "3. The last friend you counted leaves the circle and loses the game.\n",
    "4. If there is still more than one friend in the circle, go back to step `2` **starting** from the friend **immediately clockwise** of the friend who just lost and repeat.\n",
    "5. Else, the last friend in the circle wins the game.\n",
    "\n",
    "Given the number of friends, `n`, and an integer `k`, return *the winner of the game*."
   ]
  },
  {
   "cell_type": "code",
   "execution_count": 4,
   "id": "ae5e1b5d",
   "metadata": {},
   "outputs": [],
   "source": [
    "def findTheWinner(self, n: int, k: int) -> int:\n",
    "        Friend = [i+1 for i in range(n)]\n",
    "        start = 0\n",
    "\n",
    "        while(len(Friend) > 1):\n",
    "            next = (start + k - 1) % n \n",
    "            Friend.pop(next)\n",
    "            start = next\n",
    "            n -= 1\n",
    "\n",
    "        return Friend[0]\n"
   ]
  },
  {
   "cell_type": "markdown",
   "id": "a86ce7f7",
   "metadata": {},
   "source": [
    "6.You are given an integer array `deck`. There is a deck of cards where every card has a unique integer. The integer on the `ith` card is `deck[i]`.\n",
    "\n",
    "You can order the deck in any order you want. Initially, all the cards start face down (unrevealed) in one deck.\n",
    "\n",
    "You will do the following steps repeatedly until all cards are revealed:\n",
    "\n",
    "1. Take the top card of the deck, reveal it, and take it out of the deck.\n",
    "2. If there are still cards in the deck then put the next top card of the deck at the bottom of the deck.\n",
    "3. If there are still unrevealed cards, go back to step 1. Otherwise, stop.\n",
    "\n",
    "Return *an ordering of the deck that would reveal the cards in increasing order*.\n",
    "\n",
    "**Note** that the first entry in the answer is considered to be the top of the deck."
   ]
  },
  {
   "cell_type": "code",
   "execution_count": 5,
   "id": "d73c45ad",
   "metadata": {},
   "outputs": [],
   "source": [
    "\n",
    "  def deckRevealedIncreasing(self, deck):\n",
    "    q = collections.deque()\n",
    "\n",
    "    for card in reversed(sorted(deck)):\n",
    "        \n",
    "        q.rotate()\n",
    "        q.appendleft(card)\n",
    "\n",
    "    return list(q)\n"
   ]
  },
  {
   "cell_type": "markdown",
   "id": "d413e18b",
   "metadata": {},
   "source": [
    "8. For a stream of integers, implement a data structure that checks if the last `k` integers parsed in the stream are **equal** to `value`.\n",
    "\n",
    "Implement the **DataStream** class:\n",
    "\n",
    "- `DataStream(int value, int k)` Initializes the object with an empty integer stream and the two integers `value` and `k`.\n",
    "- `boolean consec(int num)` Adds `num` to the stream of integers. Returns `true` if the last `k` integers are equal to `value`, and `false` otherwise. If there are less than `k` integers, the condition does not hold true, so returns `false`."
   ]
  },
  {
   "cell_type": "code",
   "execution_count": 8,
   "id": "ad734271",
   "metadata": {},
   "outputs": [],
   "source": [
    "\n",
    "    def __init__(self, value: int, k: int):\n",
    "        self.value = value\n",
    "        self.k = k\n",
    "        self.q = deque()\n",
    "        self.count = 0\n",
    "\n",
    "    def consec(self, num: int) -> bool:\n",
    "        if len(self.q) == self.k and self.q.popleft() == self.value:\n",
    "            self.count -= 1\n",
    "        if num == self.value:\n",
    "            self.count += 1\n",
    "        self.q.append(num)\n",
    "        return self.count == self.k"
   ]
  },
  {
   "cell_type": "code",
   "execution_count": null,
   "id": "af7db390",
   "metadata": {},
   "outputs": [],
   "source": []
  }
 ],
 "metadata": {
  "kernelspec": {
   "display_name": "Python 3 (ipykernel)",
   "language": "python",
   "name": "python3"
  },
  "language_info": {
   "codemirror_mode": {
    "name": "ipython",
    "version": 3
   },
   "file_extension": ".py",
   "mimetype": "text/x-python",
   "name": "python",
   "nbconvert_exporter": "python",
   "pygments_lexer": "ipython3",
   "version": "3.9.12"
  }
 },
 "nbformat": 4,
 "nbformat_minor": 5
}

{
 "cells": [
  {
   "cell_type": "markdown",
   "id": "16db72d0",
   "metadata": {},
   "source": [
    "1. Given an array of intervals where intervals[i] = [starti, endi], merge all overlapping intervals, and return an array of the non-overlapping intervals that cover all the intervals in the input."
   ]
  },
  {
   "cell_type": "code",
   "execution_count": 4,
   "id": "d4469984",
   "metadata": {},
   "outputs": [],
   "source": [
    "def merge(self, intervals):\n",
    "        if len(intervals) == 0:\n",
    "            return []\n",
    "        sorted_intervals = sorted(intervals, key = lambda x: x[0])\n",
    "        res = [sorted_intervals[0]]\n",
    "        for interval in sorted_intervals[1:]:\n",
    "            #the next node's smallest value is smaller than the prev node's largest value, then overlapping\n",
    "            if interval[0] <= res[-1][1]:\n",
    "                #left boundary is the largest value\n",
    "                res[-1][1]=max(interval[1], res[-1][1])\n",
    "            else:\n",
    "                res.append(interval)\n",
    "        return res"
   ]
  },
  {
   "cell_type": "markdown",
   "id": "6c2f0a77",
   "metadata": {},
   "source": [
    "2. Given an array `nums` with `n` objects colored red, white, or blue, sort them **[in-place](https://en.wikipedia.org/wiki/In-place_algorithm)** so that objects of the same color are adjacent, with the colors in the order red, white, and blue.\n",
    "\n",
    "We will use the integers `0`, `1`, and `2` to represent the color red, white, and blue, respectively.\n",
    "\n",
    "You must solve this problem without using the library's sort function."
   ]
  },
  {
   "cell_type": "code",
   "execution_count": 5,
   "id": "a00c2252",
   "metadata": {},
   "outputs": [],
   "source": [
    "def sortColors(self, nums) -> None:\n",
    "        \"\"\"\n",
    "        Do not return anything, modify nums in-place instead.\n",
    "        \"\"\"\n",
    "        p0=0\n",
    "        current=0\n",
    "        p2=len(nums)-1\n",
    "        while current<=p2:\n",
    "            if nums[current] == 0:\n",
    "                nums[p0], nums[current] = nums[current], nums[p0]\n",
    "                p0 += 1\n",
    "                current += 1\n",
    "            elif nums[current] == 2:\n",
    "                nums[current], nums[p2] = nums[p2], nums[current]\n",
    "                p2 -= 1\n",
    "            else:\n",
    "                current += 1"
   ]
  },
  {
   "cell_type": "markdown",
   "id": "ed25b2e7",
   "metadata": {},
   "source": [
    "3. You are a product manager and currently leading a team to develop a new product. Unfortunately, the latest version of your product fails the quality check. Since each version is developed based on the previous version, all the versions after a bad version are also bad.\n",
    "\n",
    "Suppose you have `n` versions `[1, 2, ..., n]` and you want to find out the first bad one, which causes all the following ones to be bad.\n",
    "\n",
    "You are given an API `bool isBadVersion(version)` which returns whether `version` is bad. Implement a function to find the first bad version. You should minimize the number of calls to the API."
   ]
  },
  {
   "cell_type": "code",
   "execution_count": 6,
   "id": "a1a87533",
   "metadata": {},
   "outputs": [],
   "source": [
    "def firstBadVersion(self, n):\n",
    "    first = 0\n",
    "    last = n\n",
    "    while first <= last:\n",
    "        mid = (first+last)//2\n",
    "        if isBadVersion(mid):\n",
    "            if not isBadVersion(mid-1):\n",
    "                return mid\n",
    "            else:\n",
    "                last = mid - 1\n",
    "        else:\n",
    "            first = mid + 1\n",
    "        \n",
    "        return -1"
   ]
  },
  {
   "cell_type": "markdown",
   "id": "07e6590b",
   "metadata": {},
   "source": [
    "5. Given an integer array nums, return true if any value appears at least twice in the array, and return false if every element is distinct."
   ]
  },
  {
   "cell_type": "code",
   "execution_count": 9,
   "id": "46106f5f",
   "metadata": {},
   "outputs": [],
   "source": [
    "def containsDuplicate(self, nums) -> bool:\n",
    "    hasSet = set()\n",
    "    for i in nums:\n",
    "        if i in hasSet:\n",
    "            return True\n",
    "        hasSet.add(i)\n",
    "    return False\n",
    "        "
   ]
  },
  {
   "cell_type": "markdown",
   "id": "e53c81bb",
   "metadata": {},
   "source": [
    "6. There are some spherical balloons taped onto a flat wall that represents the XY-plane. The balloons are represented as a 2D integer array `points` where `points[i] = [xstart, xend]` denotes a balloon whose **horizontal diameter** stretches between `xstart` and `xend`. You do not know the exact y-coordinates of the balloons.\n",
    "\n",
    "Arrows can be shot up **directly vertically** (in the positive y-direction) from different points along the x-axis. A balloon with `xstart` and `xend` is **burst** by an arrow shot at `x` if `xstart <= x <= xend`. There is **no limit** to the number of arrows that can be shot. A shot arrow keeps traveling up infinitely, bursting any balloons in its path.\n",
    "\n",
    "Given the array `points`, return *the **minimum** number of arrows that must be shot to burst all balloons*."
   ]
  },
  {
   "cell_type": "code",
   "execution_count": 10,
   "id": "3414d26a",
   "metadata": {},
   "outputs": [],
   "source": [
    "    def findMinArrowShots(self, points) -> int:\n",
    "        points.sort()\n",
    "        maxVal = 0\n",
    "        lastVal = float('-inf')\n",
    "        for p in points:\n",
    "            if lastVal < p[0]:\n",
    "                lastVal = p[1]\n",
    "                maxVal += 1\n",
    "        return maxVal"
   ]
  },
  {
   "cell_type": "markdown",
   "id": "e8421016",
   "metadata": {},
   "source": [
    "7. Given an integer array nums, return the length of the longest strictly increasing subsequence\n",
    "."
   ]
  },
  {
   "cell_type": "code",
   "execution_count": 11,
   "id": "15d48b03",
   "metadata": {},
   "outputs": [],
   "source": [
    "    def lengthOfLIS(self, nums):\n",
    "        if nums == None or len(nums) == 0:\n",
    "            return 0\n",
    "        \n",
    "        length = len(nums)\n",
    "        dp = [1] * length\n",
    "        maximum = 1\n",
    "        \n",
    "        for i in range(length):\n",
    "            for j in range(i):\n",
    "                if nums[i] > nums[j]:\n",
    "                    dp[i] = max(dp[i], dp[j] + 1)\n",
    "            maximum = max(maximum, dp[i])\n",
    "            \n",
    "        return maximum"
   ]
  },
  {
   "cell_type": "markdown",
   "id": "eb393ea7",
   "metadata": {},
   "source": [
    "8. <aside>\n",
    "💡 **132 Pattern**\n",
    "\n",
    "Given an array of `n` integers `nums`, a **132 pattern** is a subsequence of three integers `nums[i]`, `nums[j]` and `nums[k]` such that `i < j < k` and `nums[i] < nums[k] < nums[j]`.\n",
    "\n",
    "Return `true` *if there is a **132 pattern** in* `nums`*, otherwise, return* `false`*.*\n",
    "\n",
    "</aside>"
   ]
  },
  {
   "cell_type": "code",
   "execution_count": 12,
   "id": "9d4a9876",
   "metadata": {},
   "outputs": [],
   "source": [
    "def find132pattern(self, nums):\n",
    "    N = len(nums)\n",
    "    arr = list(nums)\n",
    "    for i in range(1,N):\n",
    "        arr[i] = min(nums[i-1], arr[i-1])\n",
    "        \n",
    "    j = N\n",
    "    for i in range(N)[::-1]:\n",
    "        if nums[i] <= arr[i]: \n",
    "            continue\n",
    "        while j < N and arr[j] <= arr[i]:\n",
    "            j += 1\n",
    "        if j < N and arr[j] < nums[i]:\n",
    "            return True\n",
    "        if nums[i] > arr[i - 1]:\n",
    "            j -= 1\n",
    "            arr[j] = nums[i]\n",
    "      \n",
    "    return False"
   ]
  },
  {
   "cell_type": "code",
   "execution_count": null,
   "id": "d94f81b3",
   "metadata": {},
   "outputs": [],
   "source": []
  }
 ],
 "metadata": {
  "kernelspec": {
   "display_name": "Python 3 (ipykernel)",
   "language": "python",
   "name": "python3"
  },
  "language_info": {
   "codemirror_mode": {
    "name": "ipython",
    "version": 3
   },
   "file_extension": ".py",
   "mimetype": "text/x-python",
   "name": "python",
   "nbconvert_exporter": "python",
   "pygments_lexer": "ipython3",
   "version": "3.9.12"
  }
 },
 "nbformat": 4,
 "nbformat_minor": 5
}

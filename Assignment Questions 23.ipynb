{
 "cells": [
  {
   "cell_type": "markdown",
   "id": "af6094a9",
   "metadata": {},
   "source": [
    "Given preorder of a binary tree, calculate its **[depth(or height)](https://www.geeksforgeeks.org/write-a-c-program-to-find-the-maximum-depth-or-height-of-a-tree/)** [starting from depth 0]. The preorder is given as a string with two possible characters.\n",
    "\n",
    "1. ‘l’ denotes the leaf\n",
    "2. ‘n’ denotes internal node\n",
    "\n",
    "The given tree can be seen as a full binary tree where every node has 0 or two children. The two children of a node can ‘n’ or ‘l’ or mix of both."
   ]
  },
  {
   "cell_type": "code",
   "execution_count": 1,
   "id": "a90971ec",
   "metadata": {},
   "outputs": [
    {
     "name": "stdout",
     "output_type": "stream",
     "text": [
      "3\n"
     ]
    }
   ],
   "source": [
    "def findDepthRec(tree, n, index) :\n",
    " \n",
    "    if (index[0] >= n or tree[index[0]] == 'l'):\n",
    "        return 0\n",
    "\n",
    "    index[0] += 1\n",
    "    left = findDepthRec(tree, n, index)\n",
    "\n",
    "    index[0] += 1\n",
    "    right = findDepthRec(tree, n, index)\n",
    "    return (max(left, right) + 1)\n",
    "\n",
    "def findDepth(tree, n) :\n",
    " \n",
    "    index = [0]\n",
    "    return findDepthRec(tree, n, index)\n",
    " \n",
    "         \n",
    "\n",
    "if __name__ == '__main__':\n",
    "    tree= \"nlnnlll\"\n",
    "    n = len(tree)\n",
    " \n",
    "    print(findDepth(tree, n))"
   ]
  },
  {
   "cell_type": "markdown",
   "id": "203aa03b",
   "metadata": {},
   "source": [
    "## Given a Binary tree, the task is to print the left view of the Binary Tree. The left view of a Binary Tree is a set of leftmost nodes for every level"
   ]
  },
  {
   "cell_type": "code",
   "execution_count": 2,
   "id": "5b7d97ec",
   "metadata": {},
   "outputs": [
    {
     "name": "stdout",
     "output_type": "stream",
     "text": [
      "10 2 7 14 "
     ]
    }
   ],
   "source": [
    "class Node:\n",
    "\n",
    "    def __init__(self, data):\n",
    "        self.data = data\n",
    "        self.left = None\n",
    "        self.right = None\n",
    "\n",
    "def leftViewUtil(root, level, max_level):\n",
    "\n",
    "    if root is None:\n",
    "        return\n",
    "\n",
    "    if (max_level[0] < level):\n",
    "        print (root.data, end = \" \")\n",
    "        max_level[0] = level\n",
    "\n",
    "    leftViewUtil(root.left, level + 1, max_level)\n",
    "    leftViewUtil(root.right, level + 1, max_level)\n",
    "\n",
    "def leftView(root):\n",
    "    max_level = [0]\n",
    "    leftViewUtil(root, 1, max_level)\n",
    "\n",
    "if __name__ == '__main__':\n",
    "    root = Node(10)\n",
    "    root.left = Node(2)\n",
    "    root.right = Node(3)\n",
    "    root.left.left = Node(7)\n",
    "    root.left.right = Node(8)\n",
    "    root.right.right = Node(15)\n",
    "    root.right.left = Node(12)\n",
    "    root.right.right.left = Node(14)\n",
    "     \n",
    "    leftView(root)"
   ]
  },
  {
   "cell_type": "markdown",
   "id": "d4263dfe",
   "metadata": {},
   "source": [
    "## Given a Binary Tree, print the Right view of it.\n",
    "\n",
    "## The right view of a Binary Tree is a set of nodes visible when the tree is visited from the Right side."
   ]
  },
  {
   "cell_type": "code",
   "execution_count": 4,
   "id": "56bd6abd",
   "metadata": {},
   "outputs": [
    {
     "name": "stdout",
     "output_type": "stream",
     "text": [
      "1   \n",
      "3   \n",
      "7   \n",
      "8   \n"
     ]
    }
   ],
   "source": [
    "class Node:\n",
    "\n",
    "    def __init__(self, item):\n",
    "        self.data = item\n",
    "        self.left = None\n",
    "        self.right = None\n",
    "\n",
    "def rightViewUtil(root, level, max_level):\n",
    "\n",
    "    if root is None:\n",
    "        return\n",
    "\n",
    "    if (max_level[0] < level):\n",
    "        print (\"%d   \" % (root.data))\n",
    "        max_level[0] = level\n",
    "\n",
    "    rightViewUtil(root.right, level+1, max_level)\n",
    "    rightViewUtil(root.left, level+1, max_level)\n",
    " \n",
    " \n",
    "def rightView(root):\n",
    "    max_level = [0]\n",
    "    rightViewUtil(root, 1, max_level)\n",
    "\n",
    "root = Node(1)\n",
    "root.left = Node(2)\n",
    "root.right = Node(3)\n",
    "root.left.left = Node(4)\n",
    "root.left.right = Node(5)\n",
    "root.right.left = Node(6)\n",
    "root.right.right = Node(7)\n",
    "root.right.left.right = Node(8)\n",
    " \n",
    "rightView(root)"
   ]
  },
  {
   "cell_type": "markdown",
   "id": "ad4b3b1d",
   "metadata": {},
   "source": [
    "## Given a Binary Tree, The task is to print the bottom view from left to right. A node x is there in output if x is the bottommost node at its horizontal distance. The horizontal distance of the left child of a node x is equal to a horizontal distance of x minus 1, and that of a right child is the horizontal distance of x plus 1."
   ]
  },
  {
   "cell_type": "code",
   "execution_count": 5,
   "id": "6175995b",
   "metadata": {},
   "outputs": [
    {
     "name": "stdout",
     "output_type": "stream",
     "text": [
      "Bottom view of the given binary tree :\n",
      "5 10 4 14 25 "
     ]
    }
   ],
   "source": [
    "from collections import deque\n",
    "\n",
    "class Node:\n",
    "     \n",
    "    def __init__(self, key):\n",
    "         \n",
    "        self.data = key\n",
    "        self.hd = float('inf')\n",
    "        self.left = None\n",
    "        self.right = None\n",
    "\n",
    "def bottomView(root):\n",
    " \n",
    "    if (root == None):\n",
    "        return\n",
    "\n",
    "    hd = 0\n",
    "    min_hd, max_hd = 0, 0\n",
    "     \n",
    "    hd_dict = dict()\n",
    "    q = deque()\n",
    "\n",
    "    root.hd = hd\n",
    "    q.append(root) \n",
    "\n",
    "    while q:\n",
    "        curr_node = q.popleft()\n",
    "\n",
    "        hd = curr_node.hd\n",
    "        min_hd = min(min_hd, hd)\n",
    "        max_hd = max(max_hd, hd)\n",
    "        hd_dict[hd] = curr_node.data\n",
    "\n",
    "        if curr_node.left:\n",
    "            curr_node.left.hd = hd - 1\n",
    "            q.append(curr_node.left)\n",
    "\n",
    "        if curr_node.right:\n",
    "            curr_node.right.hd = hd + 1\n",
    "            q.append(curr_node.right)\n",
    "\n",
    "    for i in range(min_hd, max_hd+1):\n",
    "        print(hd_dict[i], end = ' ')\n",
    "\n",
    "if __name__=='__main__':\n",
    "     \n",
    "    root = Node(20)\n",
    "    root.left = Node(8)\n",
    "    root.right = Node(22)\n",
    "    root.left.left = Node(5)\n",
    "    root.left.right = Node(3)\n",
    "    root.right.left = Node(4)\n",
    "    root.right.right = Node(25)\n",
    "    root.left.right.left = Node(10)\n",
    "    root.left.right.right = Node(14)\n",
    "     \n",
    "    print(\"Bottom view of the given binary tree :\")\n",
    "     \n",
    "    bottomView(root)"
   ]
  },
  {
   "cell_type": "code",
   "execution_count": null,
   "id": "d604edde",
   "metadata": {},
   "outputs": [],
   "source": []
  }
 ],
 "metadata": {
  "kernelspec": {
   "display_name": "Python 3 (ipykernel)",
   "language": "python",
   "name": "python3"
  },
  "language_info": {
   "codemirror_mode": {
    "name": "ipython",
    "version": 3
   },
   "file_extension": ".py",
   "mimetype": "text/x-python",
   "name": "python",
   "nbconvert_exporter": "python",
   "pygments_lexer": "ipython3",
   "version": "3.9.12"
  }
 },
 "nbformat": 4,
 "nbformat_minor": 5
}

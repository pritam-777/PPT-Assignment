{
  "nbformat": 4,
  "nbformat_minor": 0,
  "metadata": {
    "colab": {
      "provenance": []
    },
    "kernelspec": {
      "name": "python3",
      "display_name": "Python 3"
    },
    "language_info": {
      "name": "python"
    }
  },
  "cells": [
    {
      "cell_type": "code",
      "execution_count": 3,
      "metadata": {
        "id": "IbvHmyr05rpk"
      },
      "outputs": [],
      "source": []
    },
    {
      "cell_type": "markdown",
      "source": [
        "Move Zeroes\n",
        "Given an integer array nums, move all 0's to the end of it while maintaining the relative order of the non-zero elements.\n",
        "\n",
        "Note that you must do this in-place without making a copy of the array.\n",
        "\n",
        "Example 1:\n",
        "Input: nums = [0,1,0,3,12]\n",
        "Output: [1,3,12,0,0]\n",
        "\n",
        "Example 2:\n",
        "Input: nums = [0]\n",
        "Output: [0]\n",
        "\n",
        "Constraints:\n",
        "a. 1 <= nums.length <= 10^4\n",
        "b. -2^31 <= nums[i] <= 2^31 - 1\n"
      ],
      "metadata": {
        "id": "cpBpyVpR5xwq"
      }
    },
    {
      "cell_type": "code",
      "source": [
        " def moveZeroes(nums):\n",
        "        \"\"\"\n",
        "        Do not return anything, modify nums in-place instead.\n",
        "        \"\"\"\n",
        "        l=0\n",
        "        for i in range(len(nums)):\n",
        "            if nums[i]:\n",
        "                nums[l],nums[i]=nums[i],nums[l]\n",
        "                l+=1\n",
        "        return nums"
      ],
      "metadata": {
        "id": "cDM_FABw5wKj"
      },
      "execution_count": 2,
      "outputs": []
    },
    {
      "cell_type": "markdown",
      "source": [],
      "metadata": {
        "id": "xWK0KMfo525s"
      }
    },
    {
      "cell_type": "code",
      "source": [
        "nums = [0,1,0,3,12]\n",
        "print(moveZeroes(nums))"
      ],
      "metadata": {
        "colab": {
          "base_uri": "https://localhost:8080/"
        },
        "id": "-sDLTC8U5-5h",
        "outputId": "352df0e6-c969-40ed-c8b2-b629a138bd43"
      },
      "execution_count": 3,
      "outputs": [
        {
          "output_type": "stream",
          "name": "stdout",
          "text": [
            "[1, 3, 12, 0, 0]\n"
          ]
        }
      ]
    },
    {
      "cell_type": "markdown",
      "source": [
        "First Unique Character in a String\n",
        "\n",
        "Given a string s, find the first non-repeating character in it and return its index. If it does not exist, return -1.\n",
        "\n",
        "Example 1:\n",
        "Input: s = \"leetcode\"\n",
        "Output: 0\n",
        "\n",
        "Example 2:\n",
        "Input: s = \"loveleetcode\"\n",
        "Output: 2\n",
        "\n",
        "Example 3:\n",
        "Input: s = \"aabb\"\n",
        "Output: -1"
      ],
      "metadata": {
        "id": "V06gwQd06Pp-"
      }
    },
    {
      "cell_type": "code",
      "source": [
        " import collections\n",
        " def firstUniqChar(s):\n",
        "       \n",
        "        ss = collections.Counter(s);\n",
        "        \n",
        "        for i in range(len(s)):\n",
        "            if ss[s[i]] == 1:\n",
        "                return i\n",
        "        return -1   \n",
        "                "
      ],
      "metadata": {
        "id": "kQLRafJL6AhJ"
      },
      "execution_count": 5,
      "outputs": []
    },
    {
      "cell_type": "code",
      "source": [
        "s = \"loveleetcode\"\n",
        "print(firstUniqChar(s))"
      ],
      "metadata": {
        "colab": {
          "base_uri": "https://localhost:8080/"
        },
        "id": "51kNUeHK7EsS",
        "outputId": "d2d690d1-8cf5-440d-d10d-ed4c848aa608"
      },
      "execution_count": 6,
      "outputs": [
        {
          "output_type": "stream",
          "name": "stdout",
          "text": [
            "2\n"
          ]
        }
      ]
    },
    {
      "cell_type": "code",
      "source": [],
      "metadata": {
        "id": "-h3gh5xz7QXR"
      },
      "execution_count": null,
      "outputs": []
    }
  ]
}